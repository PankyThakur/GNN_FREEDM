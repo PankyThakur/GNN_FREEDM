{
 "cells": [
  {
   "cell_type": "code",
   "execution_count": 1,
   "metadata": {},
   "outputs": [],
   "source": [
    "import torch\n",
    "import torch.nn as nn\n",
    "import torch.nn.functional as F\n",
    "from torch.nn import Linear\n",
    "\n",
    "import torch_geometric.nn as pyg_nn\n",
    "from torch_geometric.nn import GCNConv\n",
    "from torch_geometric.data import Data, DataLoader\n",
    "\n",
    "import numpy as np\n",
    "import pandas as pd\n",
    "import matplotlib.pyplot as plt\n",
    "\n",
    "np.set_printoptions(precision=5, suppress=True)\n",
    "torch.set_printoptions(precision=5, sci_mode=False)"
   ]
  },
  {
   "cell_type": "code",
   "execution_count": 2,
   "metadata": {},
   "outputs": [],
   "source": [
    "def slice_dataset(dataset, percentage):\n",
    "    data_size = len(dataset)\n",
    "    return dataset[:int(data_size*percentage/100)]\n",
    "\n",
    "def make_dataset(dataset, n_bus):\n",
    "    x_raw_1, y_raw_1 = [], []\n",
    "    x_raw, y_raw = [], []\n",
    "\n",
    "    for i in range(len(dataset)):\n",
    "        for n in range(n_bus):\n",
    "            x_raw_1.append(list([dataset[i, 4*n+1], dataset[i, 4*n+2]]))\n",
    "            y_raw_1.extend(dataset[i, 4*n+3:4*n+5])\n",
    "\n",
    "        x_raw.append(list(x_raw_1))\n",
    "        y_raw.append(y_raw_1)\n",
    "        x_raw_1, y_raw_1 = [], []\n",
    "\n",
    "    x_raw = torch.tensor(x_raw, dtype=torch.float)\n",
    "    y_raw = torch.tensor(y_raw, dtype=torch.float)\n",
    "    return x_raw, y_raw\n",
    "\n",
    "def normalize_dataset(x, y):\n",
    "    x_mean = torch.mean(x,0)\n",
    "    y_mean = torch.mean(y,0)\n",
    "    x_std = torch.std(x,0)\n",
    "    y_std = torch.std(y,0)\n",
    "    x_norm = (x-x_mean)/x_std\n",
    "    y_norm = (y-y_mean)/y_std\n",
    "    x_norm = torch.where(torch.isnan(x_norm), torch.zeros_like(x_norm), x_norm)\n",
    "    y_norm = torch.where(torch.isnan(y_norm), torch.zeros_like(y_norm), y_norm)\n",
    "    x_norm = torch.where(torch.isinf(x_norm), torch.zeros_like(x_norm), x_norm)\n",
    "    y_norm = torch.where(torch.isinf(y_norm), torch.zeros_like(y_norm), y_norm)\n",
    "    return x_norm, y_norm, x_mean, y_mean, x_std, y_std\n",
    "\n",
    "def denormalize_output(y_norm, y_mean, y_std):\n",
    "    y = y_norm*y_std+y_mean\n",
    "    return y\n",
    "\n",
    "def NRMSE(yhat,y):\n",
    "    return torch.sqrt(torch.mean(((yhat-y)/torch.std(yhat,0))**2))\n",
    "\n",
    "def MSE(yhat,y):\n",
    "    return torch.mean((yhat-y)**2)"
   ]
  },
  {
   "cell_type": "code",
   "execution_count": 3,
   "metadata": {},
   "outputs": [],
   "source": [
    "dataset1 = pd.read_excel('dataset\\Grid_14 bus_1.xlsx').values\n",
    "dataset2 = pd.read_excel('dataset\\Grid_14 bus_2.xlsx').values"
   ]
  },
  {
   "cell_type": "code",
   "execution_count": 4,
   "metadata": {},
   "outputs": [],
   "source": [
    "train_percentage = 100\n",
    "val_percentage = 100\n",
    "\n",
    "train_dataset = slice_dataset(dataset1, train_percentage)\n",
    "val_dataset = slice_dataset(dataset2, val_percentage)\n",
    "\n",
    "n_bus = 14\n",
    "\n",
    "#actual data\n",
    "x_raw_train, y_raw_train = make_dataset(train_dataset, n_bus)\n",
    "x_raw_val, y_raw_val = make_dataset(val_dataset, n_bus)\n",
    "\n",
    "#normalized data\n",
    "x_norm_train, y_norm_train, _, _, _, _ = normalize_dataset(x_raw_train, y_raw_train)\n",
    "x_norm_val, y_norm_val, x_val_mean, y_val_mean, x_val_std, y_val_std = normalize_dataset(x_raw_val, y_raw_val)"
   ]
  },
  {
   "cell_type": "code",
   "execution_count": 5,
   "metadata": {},
   "outputs": [
    {
     "name": "stderr",
     "output_type": "stream",
     "text": [
      "c:\\Users\\panka\\.virtualenvs\\gnn-powerflow-0Gf6W7zT\\Lib\\site-packages\\torch_geometric\\deprecation.py:26: UserWarning: 'data.DataLoader' is deprecated, use 'loader.DataLoader' instead\n",
      "  warnings.warn(out)\n"
     ]
    }
   ],
   "source": [
    "x_train, y_train = x_norm_train, y_norm_train\n",
    "x_val, y_val = x_norm_val, y_norm_val\n",
    "edge_index = torch.tensor([[0, 1, 1, 2, 1, 3, 2, 4, 3, 5, 4, 6, 4, 7, 5, 8, 5, 9, 1, 10, 10, 11, 11, 12, 11, 13],\n",
    "                           [1, 0, 2, 1, 3, 1, 4, 2, 5, 3, 6, 4, 7, 4, 8, 5, 9, 5, 10, 1, 11, 10, 12, 11, 13, 11]], dtype=torch.long)\n",
    "\n",
    "data_train_list, data_val_list = [], []\n",
    "for i,_ in enumerate(x_train):\n",
    "    data_train_list.append(Data(x=x_train[i], y=y_train[i], edge_index=edge_index))\n",
    "for i,_ in enumerate(x_val):\n",
    "    data_val_list.append(Data(x=x_val[i], y=y_val[i], edge_index=edge_index))\n",
    "\n",
    "train_loader = DataLoader(data_train_list, batch_size=1)\n",
    "val_loader = DataLoader(data_val_list, batch_size=1)"
   ]
  },
  {
   "cell_type": "code",
   "execution_count": 6,
   "metadata": {},
   "outputs": [],
   "source": [
    "class My_GNN_GNN_NN(torch.nn.Module):\n",
    "    def __init__(self, node_size=None, feat_in=None, feat_size1=None, feat_size2=None, hidden_size1=None, output_size=None):\n",
    "        super(My_GNN_GNN_NN, self).__init__()\n",
    "        self.feat_in = feat_in if feat_in is not None else 2\n",
    "        self.feat_size1 = feat_in if feat_in is not None else 5\n",
    "        self.feat_size2 = feat_in if feat_in is not None else 4\n",
    "        self.hidden_size1 = hidden_size1 if hidden_size1 is not None else 38\n",
    "        self.output_size = output_size if output_size is not None else 18\n",
    "        \n",
    "        self.conv1 = GCNConv(feat_in, feat_size1)\n",
    "        self.conv2 = GCNConv(feat_size1, feat_size2)\n",
    "        self.lin1 = Linear(node_size*feat_size2, hidden_size1)\n",
    "        self.lin2 = Linear(hidden_size1, output_size)\n",
    "\n",
    "    def forward(self, data):\n",
    "        x, edge_index = data.x, data.edge_index\n",
    "\n",
    "        x = self.conv1(x, edge_index)\n",
    "        x = torch.tanh(x)\n",
    "        \n",
    "        x = self.conv2(x, edge_index)\n",
    "        x = torch.tanh(x)\n",
    "\n",
    "        x = x.flatten(start_dim = 0)\n",
    "        x = self.lin1(x)\n",
    "        x = torch.tanh(x)\n",
    "\n",
    "        x = self.lin2(x)\n",
    "\n",
    "        return x\n",
    "    \n",
    "    def save_weights(self, model, name):\n",
    "        torch.save(model, name)"
   ]
  },
  {
   "cell_type": "code",
   "execution_count": 7,
   "metadata": {},
   "outputs": [
    {
     "name": "stdout",
     "output_type": "stream",
     "text": [
      "conv1.bias\n",
      "torch.Size([8])\n",
      "conv1.lin.weight\n",
      "torch.Size([8, 2])\n",
      "conv2.bias\n",
      "torch.Size([4])\n",
      "conv2.lin.weight\n",
      "torch.Size([4, 8])\n",
      "lin1.weight\n",
      "torch.Size([30, 56])\n",
      "lin1.bias\n",
      "torch.Size([30])\n",
      "lin2.weight\n",
      "torch.Size([28, 30])\n",
      "lin2.bias\n",
      "torch.Size([28])\n"
     ]
    },
    {
     "data": {
      "text/plain": [
       "2638"
      ]
     },
     "execution_count": 7,
     "metadata": {},
     "output_type": "execute_result"
    }
   ],
   "source": [
    "\n",
    "feat_in = 2\n",
    "feat_size1 = 8\n",
    "feat_size2 = 4\n",
    "hidden_size1 = 30\n",
    "output_size = n_bus*2\n",
    "lr = 0.0001\n",
    "\n",
    "model = My_GNN_GNN_NN(n_bus, feat_in, feat_size1, feat_size2, hidden_size1, output_size)\n",
    "for name, param in model.named_parameters():\n",
    "  print(name)\n",
    "  print(param.size())\n",
    "\n",
    "param = sum(p.numel() for p in model.parameters() if p.requires_grad)\n",
    "param"
   ]
  },
  {
   "cell_type": "code",
   "execution_count": 8,
   "metadata": {},
   "outputs": [
    {
     "name": "stdout",
     "output_type": "stream",
     "text": [
      "epoch: 0    train loss: 0.1513637    val loss: 0.0251612\n",
      "epoch: 10    train loss: 0.0045677    val loss: 0.0043714\n",
      "epoch: 20    train loss: 0.0031053    val loss: 0.0031458\n",
      "epoch: 30    train loss: 0.0025086    val loss: 0.0026121\n",
      "epoch: 40    train loss: 0.0021309    val loss: 0.0022720\n",
      "epoch: 50    train loss: 0.0018333    val loss: 0.0019997\n",
      "epoch: 60    train loss: 0.0015611    val loss: 0.0017368\n",
      "epoch: 70    train loss: 0.0012956    val loss: 0.0014603\n",
      "epoch: 80    train loss: 0.0010602    val loss: 0.0012045\n",
      "epoch: 90    train loss: 0.0008911    val loss: 0.0010339\n",
      "epoch: 100    train loss: 0.0007791    val loss: 0.0009361\n",
      "epoch: 110    train loss: 0.0006945    val loss: 0.0008672\n",
      "epoch: 120    train loss: 0.0006235    val loss: 0.0008106\n",
      "epoch: 130    train loss: 0.0005621    val loss: 0.0007625\n",
      "epoch: 140    train loss: 0.0005091    val loss: 0.0007221\n",
      "epoch: 150    train loss: 0.0004634    val loss: 0.0006889\n",
      "epoch: 160    train loss: 0.0004242    val loss: 0.0006622\n",
      "epoch: 170    train loss: 0.0003903    val loss: 0.0006415\n",
      "epoch: 180    train loss: 0.0003609    val loss: 0.0006258\n",
      "epoch: 190    train loss: 0.0003353    val loss: 0.0006142\n",
      "epoch: 200    train loss: 0.0003127    val loss: 0.0006058\n",
      "epoch: 210    train loss: 0.0002926    val loss: 0.0005998\n",
      "epoch: 220    train loss: 0.0002747    val loss: 0.0005954\n",
      "epoch: 230    train loss: 0.0002587    val loss: 0.0005922\n",
      "epoch: 240    train loss: 0.0002441    val loss: 0.0005895\n",
      "epoch: 250    train loss: 0.0002310    val loss: 0.0005871\n",
      "epoch: 260    train loss: 0.0002190    val loss: 0.0005847\n",
      "epoch: 270    train loss: 0.0002080    val loss: 0.0005818\n",
      "epoch: 280    train loss: 0.0001980    val loss: 0.0005785\n",
      "epoch: 290    train loss: 0.0001887    val loss: 0.0005744\n",
      "epoch: 300    train loss: 0.0001802    val loss: 0.0005695\n",
      "epoch: 310    train loss: 0.0001723    val loss: 0.0005636\n",
      "epoch: 320    train loss: 0.0001649    val loss: 0.0005568\n",
      "epoch: 330    train loss: 0.0001581    val loss: 0.0005489\n",
      "epoch: 340    train loss: 0.0001517    val loss: 0.0005402\n",
      "epoch: 350    train loss: 0.0001457    val loss: 0.0005305\n",
      "epoch: 360    train loss: 0.0001402    val loss: 0.0005201\n",
      "epoch: 370    train loss: 0.0001349    val loss: 0.0005091\n",
      "epoch: 380    train loss: 0.0001300    val loss: 0.0004977\n",
      "epoch: 390    train loss: 0.0001254    val loss: 0.0004860\n",
      "epoch: 400    train loss: 0.0001210    val loss: 0.0004743\n",
      "epoch: 410    train loss: 0.0001169    val loss: 0.0004627\n",
      "epoch: 420    train loss: 0.0001131    val loss: 0.0004514\n",
      "epoch: 430    train loss: 0.0001095    val loss: 0.0004401\n",
      "epoch: 440    train loss: 0.0001061    val loss: 0.0004293\n",
      "epoch: 450    train loss: 0.0001029    val loss: 0.0004191\n",
      "epoch: 460    train loss: 0.0000999    val loss: 0.0004093\n",
      "epoch: 470    train loss: 0.0000971    val loss: 0.0004002\n",
      "epoch: 480    train loss: 0.0000945    val loss: 0.0003917\n",
      "epoch: 490    train loss: 0.0000920    val loss: 0.0003838\n",
      "epoch: 500    train loss: 0.0000897    val loss: 0.0003765\n",
      "epoch: 510    train loss: 0.0000874    val loss: 0.0003698\n",
      "epoch: 520    train loss: 0.0000854    val loss: 0.0003638\n",
      "epoch: 530    train loss: 0.0000834    val loss: 0.0003584\n",
      "epoch: 540    train loss: 0.0000815    val loss: 0.0003537\n",
      "epoch: 550    train loss: 0.0000797    val loss: 0.0003494\n",
      "epoch: 560    train loss: 0.0000780    val loss: 0.0003458\n",
      "epoch: 570    train loss: 0.0000764    val loss: 0.0003426\n",
      "epoch: 580    train loss: 0.0000748    val loss: 0.0003398\n",
      "epoch: 590    train loss: 0.0000733    val loss: 0.0003374\n",
      "epoch: 600    train loss: 0.0000719    val loss: 0.0003355\n",
      "epoch: 610    train loss: 0.0000705    val loss: 0.0003338\n",
      "epoch: 620    train loss: 0.0000691    val loss: 0.0003325\n",
      "epoch: 630    train loss: 0.0000677    val loss: 0.0003314\n",
      "epoch: 640    train loss: 0.0000664    val loss: 0.0003305\n",
      "epoch: 650    train loss: 0.0000650    val loss: 0.0003298\n",
      "epoch: 660    train loss: 0.0000636    val loss: 0.0003293\n",
      "epoch: 670    train loss: 0.0000623    val loss: 0.0003286\n",
      "epoch: 680    train loss: 0.0000610    val loss: 0.0003280\n",
      "epoch: 690    train loss: 0.0000597    val loss: 0.0003270\n",
      "epoch: 700    train loss: 0.0000585    val loss: 0.0003256\n",
      "epoch: 710    train loss: 0.0000573    val loss: 0.0003238\n",
      "epoch: 720    train loss: 0.0000563    val loss: 0.0003214\n",
      "epoch: 730    train loss: 0.0000553    val loss: 0.0003187\n",
      "epoch: 740    train loss: 0.0000545    val loss: 0.0003157\n",
      "epoch: 750    train loss: 0.0000537    val loss: 0.0003126\n",
      "epoch: 760    train loss: 0.0000529    val loss: 0.0003095\n",
      "epoch: 770    train loss: 0.0000522    val loss: 0.0003065\n",
      "epoch: 780    train loss: 0.0000515    val loss: 0.0003035\n",
      "epoch: 790    train loss: 0.0000509    val loss: 0.0003005\n",
      "epoch: 800    train loss: 0.0000503    val loss: 0.0002976\n",
      "epoch: 810    train loss: 0.0000496    val loss: 0.0002947\n",
      "epoch: 820    train loss: 0.0000490    val loss: 0.0002918\n",
      "epoch: 830    train loss: 0.0000484    val loss: 0.0002890\n",
      "epoch: 840    train loss: 0.0000479    val loss: 0.0002862\n",
      "epoch: 850    train loss: 0.0000473    val loss: 0.0002834\n",
      "epoch: 860    train loss: 0.0000468    val loss: 0.0002805\n",
      "epoch: 870    train loss: 0.0000462    val loss: 0.0002776\n",
      "epoch: 880    train loss: 0.0000457    val loss: 0.0002747\n",
      "epoch: 890    train loss: 0.0000451    val loss: 0.0002717\n",
      "epoch: 900    train loss: 0.0000446    val loss: 0.0002688\n",
      "epoch: 910    train loss: 0.0000441    val loss: 0.0002658\n",
      "epoch: 920    train loss: 0.0000436    val loss: 0.0002628\n",
      "epoch: 930    train loss: 0.0000431    val loss: 0.0002598\n",
      "epoch: 940    train loss: 0.0000427    val loss: 0.0002567\n",
      "epoch: 950    train loss: 0.0000422    val loss: 0.0002536\n",
      "epoch: 960    train loss: 0.0000417    val loss: 0.0002504\n",
      "epoch: 970    train loss: 0.0000413    val loss: 0.0002473\n",
      "epoch: 980    train loss: 0.0000408    val loss: 0.0002442\n",
      "epoch: 990    train loss: 0.0000404    val loss: 0.0002411\n",
      "epoch: 1000    train loss: 0.0000400    val loss: 0.0002380\n",
      "epoch: 1010    train loss: 0.0000396    val loss: 0.0002350\n",
      "epoch: 1020    train loss: 0.0000392    val loss: 0.0002319\n",
      "epoch: 1030    train loss: 0.0000388    val loss: 0.0002290\n",
      "epoch: 1040    train loss: 0.0000385    val loss: 0.0002262\n",
      "epoch: 1050    train loss: 0.0000381    val loss: 0.0002235\n",
      "epoch: 1060    train loss: 0.0000378    val loss: 0.0002208\n",
      "epoch: 1070    train loss: 0.0000375    val loss: 0.0002183\n",
      "epoch: 1080    train loss: 0.0000371    val loss: 0.0002159\n",
      "epoch: 1090    train loss: 0.0000368    val loss: 0.0002137\n",
      "epoch: 1100    train loss: 0.0000365    val loss: 0.0002116\n",
      "epoch: 1110    train loss: 0.0000362    val loss: 0.0002097\n",
      "epoch: 1120    train loss: 0.0000360    val loss: 0.0002080\n",
      "epoch: 1130    train loss: 0.0000357    val loss: 0.0002064\n",
      "epoch: 1140    train loss: 0.0000354    val loss: 0.0002050\n",
      "epoch: 1150    train loss: 0.0000352    val loss: 0.0002037\n",
      "epoch: 1160    train loss: 0.0000349    val loss: 0.0002026\n",
      "epoch: 1170    train loss: 0.0000347    val loss: 0.0002016\n",
      "epoch: 1180    train loss: 0.0000344    val loss: 0.0002008\n",
      "epoch: 1190    train loss: 0.0000342    val loss: 0.0002001\n",
      "epoch: 1200    train loss: 0.0000340    val loss: 0.0001995\n",
      "epoch: 1210    train loss: 0.0000338    val loss: 0.0001990\n",
      "epoch: 1220    train loss: 0.0000335    val loss: 0.0001986\n",
      "epoch: 1230    train loss: 0.0000333    val loss: 0.0001984\n",
      "epoch: 1240    train loss: 0.0000331    val loss: 0.0001983\n",
      "epoch: 1250    train loss: 0.0000329    val loss: 0.0001982\n",
      "epoch: 1260    train loss: 0.0000327    val loss: 0.0001982\n",
      "epoch: 1270    train loss: 0.0000325    val loss: 0.0001983\n",
      "epoch: 1280    train loss: 0.0000323    val loss: 0.0001984\n",
      "epoch: 1290    train loss: 0.0000321    val loss: 0.0001986\n",
      "epoch: 1300    train loss: 0.0000320    val loss: 0.0001989\n",
      "epoch: 1310    train loss: 0.0000318    val loss: 0.0001992\n",
      "epoch: 1320    train loss: 0.0000316    val loss: 0.0001996\n",
      "epoch: 1330    train loss: 0.0000314    val loss: 0.0002001\n",
      "epoch: 1340    train loss: 0.0000312    val loss: 0.0002006\n",
      "epoch: 1350    train loss: 0.0000311    val loss: 0.0002011\n",
      "epoch: 1360    train loss: 0.0000309    val loss: 0.0002016\n",
      "epoch: 1370    train loss: 0.0000308    val loss: 0.0002022\n",
      "epoch: 1380    train loss: 0.0000306    val loss: 0.0002028\n",
      "epoch: 1390    train loss: 0.0000304    val loss: 0.0002035\n",
      "epoch: 1400    train loss: 0.0000303    val loss: 0.0002041\n",
      "epoch: 1410    train loss: 0.0000301    val loss: 0.0002048\n",
      "epoch: 1420    train loss: 0.0000300    val loss: 0.0002056\n",
      "epoch: 1430    train loss: 0.0000298    val loss: 0.0002063\n",
      "epoch: 1440    train loss: 0.0000297    val loss: 0.0002070\n",
      "epoch: 1450    train loss: 0.0000296    val loss: 0.0002078\n",
      "epoch: 1460    train loss: 0.0000294    val loss: 0.0002086\n",
      "epoch: 1470    train loss: 0.0000293    val loss: 0.0002094\n",
      "epoch: 1480    train loss: 0.0000292    val loss: 0.0002101\n",
      "epoch: 1490    train loss: 0.0000290    val loss: 0.0002109\n",
      "epoch: 1500    train loss: 0.0000289    val loss: 0.0002117\n",
      "epoch: 1510    train loss: 0.0000288    val loss: 0.0002125\n",
      "epoch: 1520    train loss: 0.0000287    val loss: 0.0002133\n",
      "epoch: 1530    train loss: 0.0000285    val loss: 0.0002141\n",
      "epoch: 1540    train loss: 0.0000284    val loss: 0.0002149\n",
      "epoch: 1550    train loss: 0.0000283    val loss: 0.0002156\n",
      "epoch: 1560    train loss: 0.0000282    val loss: 0.0002164\n",
      "epoch: 1570    train loss: 0.0000281    val loss: 0.0002172\n",
      "epoch: 1580    train loss: 0.0000280    val loss: 0.0002180\n",
      "epoch: 1590    train loss: 0.0000278    val loss: 0.0002187\n",
      "epoch: 1600    train loss: 0.0000277    val loss: 0.0002195\n",
      "epoch: 1610    train loss: 0.0000276    val loss: 0.0002202\n",
      "epoch: 1620    train loss: 0.0000275    val loss: 0.0002210\n",
      "epoch: 1630    train loss: 0.0000274    val loss: 0.0002218\n",
      "epoch: 1640    train loss: 0.0000273    val loss: 0.0002225\n",
      "epoch: 1650    train loss: 0.0000272    val loss: 0.0002232\n",
      "epoch: 1660    train loss: 0.0000271    val loss: 0.0002239\n",
      "epoch: 1670    train loss: 0.0000270    val loss: 0.0002246\n",
      "epoch: 1680    train loss: 0.0000269    val loss: 0.0002254\n",
      "epoch: 1690    train loss: 0.0000268    val loss: 0.0002261\n",
      "epoch: 1700    train loss: 0.0000267    val loss: 0.0002267\n",
      "epoch: 1710    train loss: 0.0000266    val loss: 0.0002274\n",
      "epoch: 1720    train loss: 0.0000265    val loss: 0.0002280\n",
      "epoch: 1730    train loss: 0.0000265    val loss: 0.0002287\n",
      "epoch: 1740    train loss: 0.0000264    val loss: 0.0002292\n",
      "epoch: 1750    train loss: 0.0000263    val loss: 0.0002298\n",
      "epoch: 1760    train loss: 0.0000262    val loss: 0.0002304\n",
      "epoch: 1770    train loss: 0.0000261    val loss: 0.0002310\n",
      "epoch: 1780    train loss: 0.0000260    val loss: 0.0002315\n",
      "epoch: 1790    train loss: 0.0000259    val loss: 0.0002321\n",
      "epoch: 1800    train loss: 0.0000259    val loss: 0.0002327\n",
      "epoch: 1810    train loss: 0.0000258    val loss: 0.0002332\n",
      "epoch: 1820    train loss: 0.0000257    val loss: 0.0002337\n",
      "epoch: 1830    train loss: 0.0000256    val loss: 0.0002342\n",
      "epoch: 1840    train loss: 0.0000255    val loss: 0.0002347\n",
      "epoch: 1850    train loss: 0.0000255    val loss: 0.0002351\n",
      "epoch: 1860    train loss: 0.0000254    val loss: 0.0002356\n",
      "epoch: 1870    train loss: 0.0000253    val loss: 0.0002360\n",
      "epoch: 1880    train loss: 0.0000252    val loss: 0.0002364\n",
      "epoch: 1890    train loss: 0.0000252    val loss: 0.0002369\n",
      "epoch: 1900    train loss: 0.0000251    val loss: 0.0002372\n",
      "epoch: 1910    train loss: 0.0000250    val loss: 0.0002376\n",
      "epoch: 1920    train loss: 0.0000250    val loss: 0.0002379\n",
      "epoch: 1930    train loss: 0.0000249    val loss: 0.0002383\n",
      "epoch: 1940    train loss: 0.0000248    val loss: 0.0002385\n",
      "epoch: 1950    train loss: 0.0000248    val loss: 0.0002389\n",
      "epoch: 1960    train loss: 0.0000247    val loss: 0.0002392\n",
      "epoch: 1970    train loss: 0.0000246    val loss: 0.0002394\n",
      "epoch: 1980    train loss: 0.0000246    val loss: 0.0002397\n",
      "epoch: 1990    train loss: 0.0000245    val loss: 0.0002399\n",
      "epoch: 2000    train loss: 0.0000244    val loss: 0.0002401\n",
      "CPU times: total: 2h 19min 21s\n",
      "Wall time: 3h 48min 11s\n"
     ]
    }
   ],
   "source": [
    "%%time\n",
    "\n",
    "feat_in = 2\n",
    "feat_size1 = 8\n",
    "feat_size2 = 4\n",
    "hidden_size1 = 30\n",
    "output_size = n_bus*2\n",
    "lr = 0.0001\n",
    "\n",
    "model = My_GNN_GNN_NN(n_bus, feat_in, feat_size1, feat_size2, hidden_size1, output_size)\n",
    "optimizer = torch.optim.Adam(model.parameters(), lr=lr)\n",
    "train_loss_list, val_loss_list = [], []\n",
    "\n",
    "count=0\n",
    "patience=2000\n",
    "lossMin = 1e10\n",
    "\n",
    "for epoch in range(2001):\n",
    "\n",
    "    model.train()\n",
    "    train_loss = 0\n",
    "    for batch in train_loader:\n",
    "        optimizer.zero_grad()\n",
    "        y_train_prediction = model(batch)\n",
    "        loss = MSE(denormalize_output(y_train_prediction, y_val_mean, y_val_std), denormalize_output(batch.y, y_val_mean, y_val_std))\n",
    "        loss.backward()\n",
    "        optimizer.step()\n",
    "        train_loss += loss.item() * batch.num_graphs\n",
    "    train_loss /= len(train_loader.dataset)\n",
    "    train_loss_list.append(train_loss)\n",
    "\n",
    "    model.eval()\n",
    "    val_loss=0\n",
    "    for batch in val_loader:\n",
    "        y_val_prediction = model(batch)\n",
    "        loss = MSE(denormalize_output(y_val_prediction, y_val_mean, y_val_std), denormalize_output(batch.y, y_val_mean, y_val_std))\n",
    "        val_loss += loss.item() * batch.num_graphs\n",
    "    val_loss /= len(val_loader.dataset)\n",
    "    val_loss_list.append(val_loss)\n",
    "\n",
    "    #early stopping\n",
    "    if (val_loss < lossMin):\n",
    "        lossMin = val_loss\n",
    "        count = 0\n",
    "        best_epoch = epoch\n",
    "        best_train_loss = train_loss\n",
    "        best_val_loss = val_loss\n",
    "        model.save_weights(model, \"[PyG] [14 bus] Best_GNN_GNN_NN_model.pt\")\n",
    "    else:\n",
    "        count+=1\n",
    "        if(count>patience):\n",
    "            print(\"early stop at epoch {:d}    train loss: {:.7f}    val loss: {:.7f}\".format(epoch, train_loss, val_loss))\n",
    "            print(\"best val at epoch {:d}    train loss: {:.7f}    val loss: {:.7f}\".format(best_epoch, best_train_loss, best_val_loss))\n",
    "            break\n",
    "    \n",
    "    if (train_loss <= 0):\n",
    "        print(\"min train loss at epoch {:d}    train loss: {:.7f}    val loss: {:.7f}\".format(epoch, train_loss, val_loss))\n",
    "        break\n",
    "\n",
    "    if (epoch % 10) == 0:\n",
    "        print('epoch: {:d}    train loss: {:.7f}    val loss: {:.7f}'.format(epoch, train_loss, val_loss))"
   ]
  },
  {
   "cell_type": "code",
   "execution_count": 9,
   "metadata": {},
   "outputs": [
    {
     "data": {
      "image/png": "[encoded data removed]",
      "text/plain": [
       "<Figure size 640x480 with 1 Axes>"
      ]
     },
     "metadata": {},
     "output_type": "display_data"
    },
    {
     "name": "stdout",
     "output_type": "stream",
     "text": [
      "last epoch: 2000, train loss: 0.0000244, val loss: 0.0002401\n",
      "best epoch: 1256, train loss: 0.0000328, val loss: 0.0001981\n"
     ]
    }
   ],
   "source": [
    "plt.title('GNN GNN NN on power flow dataset')\n",
    "plt.plot(train_loss_list, label=\"train loss\")\n",
    "plt.plot(val_loss_list, label=\"val loss\")\n",
    "plt.yscale('log')\n",
    "plt.xlabel(\"# Epoch\")\n",
    "plt.ylabel(\"Loss\")\n",
    "plt.legend(loc='best')\n",
    "plt.show()\n",
    "\n",
    "print('last epoch: {:d}, train loss: {:.7f}, val loss: {:.7f}'.format(epoch, train_loss, val_loss))\n",
    "print('best epoch: {:d}, train loss: {:.7f}, val loss: {:.7f}'.format(best_epoch, best_train_loss, best_val_loss))"
   ]
  },
  {
   "cell_type": "code",
   "execution_count": 10,
   "metadata": {},
   "outputs": [
    {
     "name": "stdout",
     "output_type": "stream",
     "text": [
      "[1 datapoint] Train output ground-truth: \n",
      "[  10.324 -154.216    9.882 -156.117    9.753 -156.712    9.724 -156.839\n",
      "    9.659 -157.161    9.607 -157.399    9.617 -157.37     9.627 -157.311\n",
      "    9.581 -157.512    9.56  -157.633    9.773 -156.613    9.682 -157.039\n",
      "    9.658 -157.152    9.664 -157.123]\n",
      "[1 datapoint] Train output prediction: \n",
      "[  10.32431 -154.21046    9.88232 -156.10869    9.7536  -156.7061\n",
      "    9.72545 -156.82799    9.65984 -157.15486    9.60769 -157.38443\n",
      "    9.61869 -157.35979    9.62865 -157.30222    9.58318 -157.49615\n",
      "    9.56022 -157.61624    9.77316 -156.60657    9.68291 -157.03154\n",
      "    9.65886 -157.14206    9.66447 -157.11574]\n",
      "[1 datapoint] Train loss (MSE): 0.0000427\n",
      "Train loss (MSE): 0.0000155\n",
      "=========================================================================\n",
      "[1 datapoint] Val output ground-truth: \n",
      "[  10.302 -154.788    9.844 -156.745    9.686 -157.465    9.685 -157.484\n",
      "    9.574 -157.989    9.568 -158.053    9.543 -158.141    9.532 -158.187\n",
      "    9.518 -158.294    9.535 -158.209    9.727 -157.275    9.629 -157.731\n",
      "    9.599 -157.869    9.594 -157.896]\n",
      "[1 datapoint] Val output prediction: \n",
      "[  10.30203 -154.78522    9.8433  -156.74101    9.68696 -157.4554\n",
      "    9.68456 -157.48149    9.57581 -157.9772     9.56554 -158.05554\n",
      "    9.54348 -158.12962    9.53433 -158.17395    9.51688 -158.2959\n",
      "    9.5336  -158.2122     9.72633 -157.27354    9.62932 -157.7297\n",
      "    9.5991  -157.87143    9.5945  -157.89616]\n",
      "[1 datapoint] Val loss (MSE): 0.0000218\n",
      "Val loss (MSE): 0.0002401\n"
     ]
    }
   ],
   "source": [
    "model.eval()\n",
    "\n",
    "y_train_prediction_1 = model(train_loader.dataset[0])\n",
    "train_loss_1 = MSE(denormalize_output(y_train_prediction_1, y_val_mean, y_val_std), denormalize_output(y_norm_train[0], y_val_mean, y_val_std))\n",
    "print(\"[1 datapoint] Train output ground-truth: \\n\" + str(y_raw_train[0].detach().numpy()))\n",
    "print(\"[1 datapoint] Train output prediction: \\n\" + str(denormalize_output(y_train_prediction_1, y_val_mean, y_val_std).detach().numpy()))\n",
    "print('[1 datapoint] Train loss (MSE): {:.7f}'.format(train_loss_1))\n",
    "\n",
    "train_loss = 0\n",
    "for batch in train_loader:\n",
    "    pred = model(batch)\n",
    "    loss = MSE(denormalize_output(pred, y_val_mean, y_val_std), denormalize_output(batch.y, y_val_mean, y_val_std))\n",
    "    train_loss += loss.item() * batch.num_graphs\n",
    "train_loss /= len(train_loader.dataset)\n",
    "print('Train loss (MSE): {:.7f}'.format(train_loss))\n",
    "\n",
    "print(\"=========================================================================\")\n",
    "\n",
    "y_val_prediction_1 = model(val_loader.dataset[0])\n",
    "val_loss_1 = MSE(denormalize_output(y_val_prediction_1, y_val_mean, y_val_std), denormalize_output(y_norm_val[0], y_val_mean, y_val_std))\n",
    "print(\"[1 datapoint] Val output ground-truth: \\n\" + str(y_raw_val[0].detach().numpy()))\n",
    "print(\"[1 datapoint] Val output prediction: \\n\" + str(denormalize_output(y_val_prediction_1, y_val_mean, y_val_std).detach().numpy()))\n",
    "print('[1 datapoint] Val loss (MSE): {:.7f}'.format(val_loss_1))\n",
    "\n",
    "val_loss=0\n",
    "for batch in val_loader:\n",
    "    pred = model(batch)\n",
    "    loss = MSE(denormalize_output(pred, y_val_mean, y_val_std), denormalize_output(batch.y, y_val_mean, y_val_std))\n",
    "    val_loss += loss.item() * batch.num_graphs\n",
    "val_loss /= len(val_loader.dataset)\n",
    "print('Val loss (MSE): {:.7f}'.format(val_loss))"
   ]
  },
  {
   "cell_type": "code",
   "execution_count": 11,
   "metadata": {},
   "outputs": [
    {
     "name": "stdout",
     "output_type": "stream",
     "text": [
      "[1 datapoint] Train output ground-truth: \n",
      "[  10.324 -154.216    9.882 -156.117    9.753 -156.712    9.724 -156.839\n",
      "    9.659 -157.161    9.607 -157.399    9.617 -157.37     9.627 -157.311\n",
      "    9.581 -157.512    9.56  -157.633    9.773 -156.613    9.682 -157.039\n",
      "    9.658 -157.152    9.664 -157.123]\n",
      "[1 datapoint] Train output prediction: \n",
      "[  10.32463 -154.21135    9.88305 -156.10765    9.75452 -156.70573\n",
      "    9.72618 -156.82776    9.66056 -157.15498    9.60817 -157.3849\n",
      "    9.6192  -157.36005    9.62979 -157.3011     9.58401 -157.49521\n",
      "    9.5609  -157.61502    9.77362 -156.60683    9.68328 -157.0316\n",
      "    9.65981 -157.14005    9.66476 -157.11508]\n",
      "[1 datapoint] Train loss (MSE): 0.0000482\n"
     ]
    },
    {
     "name": "stderr",
     "output_type": "stream",
     "text": [
      "C:\\Users\\panka\\AppData\\Local\\Temp\\ipykernel_1404\\1251678827.py:1: FutureWarning: You are using `torch.load` with `weights_only=False` (the current default value), which uses the default pickle module implicitly. It is possible to construct malicious pickle data which will execute arbitrary code during unpickling (See https://github.com/pytorch/pytorch/blob/main/SECURITY.md#untrusted-models for more details). In a future release, the default value for `weights_only` will be flipped to `True`. This limits the functions that could be executed during unpickling. Arbitrary objects will no longer be allowed to be loaded via this mode unless they are explicitly allowlisted by the user via `torch.serialization.add_safe_globals`. We recommend you start setting `weights_only=True` for any use case where you don't have full control of the loaded file. Please open an issue on GitHub for any issues related to this experimental feature.\n",
      "  best_model = torch.load(\"[PyG] [14 bus] Best_GNN_GNN_NN_model.pt\")\n"
     ]
    },
    {
     "name": "stdout",
     "output_type": "stream",
     "text": [
      "Train loss (MSE): 0.0000184\n",
      "=========================================================================\n",
      "[1 datapoint] Val output ground-truth: \n",
      "[  10.302 -154.788    9.844 -156.745    9.686 -157.465    9.685 -157.484\n",
      "    9.574 -157.989    9.568 -158.053    9.543 -158.141    9.532 -158.187\n",
      "    9.518 -158.294    9.535 -158.209    9.727 -157.275    9.629 -157.731\n",
      "    9.599 -157.869    9.594 -157.896]\n",
      "[1 datapoint] Val output prediction: \n",
      "[  10.30226 -154.7856     9.84348 -156.74196    9.68723 -157.4568\n",
      "    9.6848  -157.48302    9.5762  -157.97821    9.56555 -158.05728\n",
      "    9.5438  -158.13081    9.53473 -158.17545    9.51689 -158.29759\n",
      "    9.53328 -158.2149     9.72641 -157.27466    9.62942 -157.73009\n",
      "    9.59925 -157.87209    9.59427 -157.8965 ]\n",
      "[1 datapoint] Val loss (MSE): 0.0000193\n",
      "Val loss (MSE): 0.0001981\n"
     ]
    }
   ],
   "source": [
    "best_model = torch.load(\"[PyG] [14 bus] Best_GNN_GNN_NN_model.pt\")\n",
    "best_model.eval()\n",
    "\n",
    "y_train_prediction_1 = best_model(train_loader.dataset[0])\n",
    "train_loss_1 = MSE(denormalize_output(y_train_prediction_1, y_val_mean, y_val_std), denormalize_output(y_norm_train[0], y_val_mean, y_val_std))\n",
    "print(\"[1 datapoint] Train output ground-truth: \\n\" + str(y_raw_train[0].detach().numpy()))\n",
    "print(\"[1 datapoint] Train output prediction: \\n\" + str(denormalize_output(y_train_prediction_1, y_val_mean, y_val_std).detach().numpy()))\n",
    "print('[1 datapoint] Train loss (MSE): {:.7f}'.format(train_loss_1))\n",
    "\n",
    "train_loss = 0\n",
    "for batch in train_loader:\n",
    "    pred = best_model(batch)\n",
    "    loss = MSE(denormalize_output(pred, y_val_mean, y_val_std), denormalize_output(batch.y, y_val_mean, y_val_std))\n",
    "    train_loss += loss.item() * batch.num_graphs\n",
    "train_loss /= len(train_loader.dataset)\n",
    "print('Train loss (MSE): {:.7f}'.format(train_loss))\n",
    "\n",
    "print(\"=========================================================================\")\n",
    "\n",
    "y_val_prediction_1 = best_model(val_loader.dataset[0])\n",
    "val_loss_1 = MSE(denormalize_output(y_val_prediction_1, y_val_mean, y_val_std), denormalize_output(y_norm_val[0], y_val_mean, y_val_std))\n",
    "print(\"[1 datapoint] Val output ground-truth: \\n\" + str(y_raw_val[0].detach().numpy()))\n",
    "print(\"[1 datapoint] Val output prediction: \\n\" + str(denormalize_output(y_val_prediction_1, y_val_mean, y_val_std).detach().numpy()))\n",
    "print('[1 datapoint] Val loss (MSE): {:.7f}'.format(val_loss_1))\n",
    "\n",
    "val_loss=0\n",
    "for batch in val_loader:\n",
    "    pred = best_model(batch)\n",
    "    loss = MSE(denormalize_output(pred, y_val_mean, y_val_std), denormalize_output(batch.y, y_val_mean, y_val_std))\n",
    "    val_loss += loss.item() * batch.num_graphs\n",
    "val_loss /= len(val_loader.dataset)\n",
    "print('Val loss (MSE): {:.7f}'.format(val_loss))"
   ]
  },
  {
   "cell_type": "code",
   "execution_count": 12,
   "metadata": {},
   "outputs": [
    {
     "name": "stderr",
     "output_type": "stream",
     "text": [
      "<timed exec>:1: FutureWarning: You are using `torch.load` with `weights_only=False` (the current default value), which uses the default pickle module implicitly. It is possible to construct malicious pickle data which will execute arbitrary code during unpickling (See https://github.com/pytorch/pytorch/blob/main/SECURITY.md#untrusted-models for more details). In a future release, the default value for `weights_only` will be flipped to `True`. This limits the functions that could be executed during unpickling. Arbitrary objects will no longer be allowed to be loaded via this mode unless they are explicitly allowlisted by the user via `torch.serialization.add_safe_globals`. We recommend you start setting `weights_only=True` for any use case where you don't have full control of the loaded file. Please open an issue on GitHub for any issues related to this experimental feature.\n",
      "c:\\Users\\panka\\.virtualenvs\\gnn-powerflow-0Gf6W7zT\\Lib\\site-packages\\torch_geometric\\deprecation.py:26: UserWarning: 'data.DataLoader' is deprecated, use 'loader.DataLoader' instead\n",
      "  warnings.warn(out)\n"
     ]
    },
    {
     "name": "stdout",
     "output_type": "stream",
     "text": [
      "dataset 1\n",
      "Train loss (MSE): 0.0000184\n",
      "===========================\n"
     ]
    },
    {
     "name": "stderr",
     "output_type": "stream",
     "text": [
      "c:\\Users\\panka\\.virtualenvs\\gnn-powerflow-0Gf6W7zT\\Lib\\site-packages\\torch_geometric\\deprecation.py:26: UserWarning: 'data.DataLoader' is deprecated, use 'loader.DataLoader' instead\n",
      "  warnings.warn(out)\n"
     ]
    },
    {
     "name": "stdout",
     "output_type": "stream",
     "text": [
      "dataset 2\n",
      "Val loss (MSE): 0.0001981\n",
      "===========================\n"
     ]
    },
    {
     "name": "stderr",
     "output_type": "stream",
     "text": [
      "c:\\Users\\panka\\.virtualenvs\\gnn-powerflow-0Gf6W7zT\\Lib\\site-packages\\torch_geometric\\deprecation.py:26: UserWarning: 'data.DataLoader' is deprecated, use 'loader.DataLoader' instead\n",
      "  warnings.warn(out)\n"
     ]
    },
    {
     "name": "stdout",
     "output_type": "stream",
     "text": [
      "dataset 3\n",
      "Test loss (MSE): 0.0000732\n",
      "===========================\n"
     ]
    },
    {
     "name": "stderr",
     "output_type": "stream",
     "text": [
      "c:\\Users\\panka\\.virtualenvs\\gnn-powerflow-0Gf6W7zT\\Lib\\site-packages\\torch_geometric\\deprecation.py:26: UserWarning: 'data.DataLoader' is deprecated, use 'loader.DataLoader' instead\n",
      "  warnings.warn(out)\n"
     ]
    },
    {
     "name": "stdout",
     "output_type": "stream",
     "text": [
      "dataset 4\n",
      "Test loss (MSE): 0.0001569\n",
      "===========================\n"
     ]
    },
    {
     "name": "stderr",
     "output_type": "stream",
     "text": [
      "c:\\Users\\panka\\.virtualenvs\\gnn-powerflow-0Gf6W7zT\\Lib\\site-packages\\torch_geometric\\deprecation.py:26: UserWarning: 'data.DataLoader' is deprecated, use 'loader.DataLoader' instead\n",
      "  warnings.warn(out)\n"
     ]
    },
    {
     "name": "stdout",
     "output_type": "stream",
     "text": [
      "dataset 5\n",
      "Test loss (MSE): 0.0001407\n",
      "===========================\n"
     ]
    },
    {
     "name": "stderr",
     "output_type": "stream",
     "text": [
      "c:\\Users\\panka\\.virtualenvs\\gnn-powerflow-0Gf6W7zT\\Lib\\site-packages\\torch_geometric\\deprecation.py:26: UserWarning: 'data.DataLoader' is deprecated, use 'loader.DataLoader' instead\n",
      "  warnings.warn(out)\n"
     ]
    },
    {
     "name": "stdout",
     "output_type": "stream",
     "text": [
      "dataset 6\n",
      "Test loss (MSE): 0.0000434\n",
      "===========================\n"
     ]
    },
    {
     "name": "stderr",
     "output_type": "stream",
     "text": [
      "c:\\Users\\panka\\.virtualenvs\\gnn-powerflow-0Gf6W7zT\\Lib\\site-packages\\torch_geometric\\deprecation.py:26: UserWarning: 'data.DataLoader' is deprecated, use 'loader.DataLoader' instead\n",
      "  warnings.warn(out)\n"
     ]
    },
    {
     "name": "stdout",
     "output_type": "stream",
     "text": [
      "dataset 7\n",
      "Test loss (MSE): 0.0001165\n",
      "===========================\n"
     ]
    },
    {
     "name": "stderr",
     "output_type": "stream",
     "text": [
      "c:\\Users\\panka\\.virtualenvs\\gnn-powerflow-0Gf6W7zT\\Lib\\site-packages\\torch_geometric\\deprecation.py:26: UserWarning: 'data.DataLoader' is deprecated, use 'loader.DataLoader' instead\n",
      "  warnings.warn(out)\n"
     ]
    },
    {
     "name": "stdout",
     "output_type": "stream",
     "text": [
      "dataset 8\n",
      "Test loss (MSE): 0.0001626\n",
      "===========================\n"
     ]
    },
    {
     "name": "stderr",
     "output_type": "stream",
     "text": [
      "c:\\Users\\panka\\.virtualenvs\\gnn-powerflow-0Gf6W7zT\\Lib\\site-packages\\torch_geometric\\deprecation.py:26: UserWarning: 'data.DataLoader' is deprecated, use 'loader.DataLoader' instead\n",
      "  warnings.warn(out)\n"
     ]
    },
    {
     "name": "stdout",
     "output_type": "stream",
     "text": [
      "dataset 9\n",
      "Test loss (MSE): 0.0000978\n",
      "===========================\n"
     ]
    },
    {
     "name": "stderr",
     "output_type": "stream",
     "text": [
      "c:\\Users\\panka\\.virtualenvs\\gnn-powerflow-0Gf6W7zT\\Lib\\site-packages\\torch_geometric\\deprecation.py:26: UserWarning: 'data.DataLoader' is deprecated, use 'loader.DataLoader' instead\n",
      "  warnings.warn(out)\n"
     ]
    },
    {
     "name": "stdout",
     "output_type": "stream",
     "text": [
      "dataset 10\n",
      "Test loss (MSE): 0.0001341\n",
      "===========================\n"
     ]
    },
    {
     "name": "stderr",
     "output_type": "stream",
     "text": [
      "c:\\Users\\panka\\.virtualenvs\\gnn-powerflow-0Gf6W7zT\\Lib\\site-packages\\torch_geometric\\deprecation.py:26: UserWarning: 'data.DataLoader' is deprecated, use 'loader.DataLoader' instead\n",
      "  warnings.warn(out)\n"
     ]
    },
    {
     "name": "stdout",
     "output_type": "stream",
     "text": [
      "dataset 11\n",
      "Test loss (MSE): 0.0001028\n",
      "===========================\n"
     ]
    },
    {
     "name": "stderr",
     "output_type": "stream",
     "text": [
      "c:\\Users\\panka\\.virtualenvs\\gnn-powerflow-0Gf6W7zT\\Lib\\site-packages\\torch_geometric\\deprecation.py:26: UserWarning: 'data.DataLoader' is deprecated, use 'loader.DataLoader' instead\n",
      "  warnings.warn(out)\n"
     ]
    },
    {
     "name": "stdout",
     "output_type": "stream",
     "text": [
      "dataset 12\n",
      "Test loss (MSE): 0.0002683\n",
      "===========================\n"
     ]
    },
    {
     "name": "stderr",
     "output_type": "stream",
     "text": [
      "c:\\Users\\panka\\.virtualenvs\\gnn-powerflow-0Gf6W7zT\\Lib\\site-packages\\torch_geometric\\deprecation.py:26: UserWarning: 'data.DataLoader' is deprecated, use 'loader.DataLoader' instead\n",
      "  warnings.warn(out)\n"
     ]
    },
    {
     "name": "stdout",
     "output_type": "stream",
     "text": [
      "dataset 13\n",
      "Test loss (MSE): 0.0000520\n",
      "===========================\n"
     ]
    },
    {
     "name": "stderr",
     "output_type": "stream",
     "text": [
      "c:\\Users\\panka\\.virtualenvs\\gnn-powerflow-0Gf6W7zT\\Lib\\site-packages\\torch_geometric\\deprecation.py:26: UserWarning: 'data.DataLoader' is deprecated, use 'loader.DataLoader' instead\n",
      "  warnings.warn(out)\n"
     ]
    },
    {
     "name": "stdout",
     "output_type": "stream",
     "text": [
      "dataset 14\n",
      "Test loss (MSE): 0.0000929\n",
      "===========================\n"
     ]
    },
    {
     "name": "stderr",
     "output_type": "stream",
     "text": [
      "c:\\Users\\panka\\.virtualenvs\\gnn-powerflow-0Gf6W7zT\\Lib\\site-packages\\torch_geometric\\deprecation.py:26: UserWarning: 'data.DataLoader' is deprecated, use 'loader.DataLoader' instead\n",
      "  warnings.warn(out)\n"
     ]
    },
    {
     "name": "stdout",
     "output_type": "stream",
     "text": [
      "dataset 15\n",
      "Test loss (MSE): 0.0000815\n",
      "===========================\n"
     ]
    },
    {
     "name": "stderr",
     "output_type": "stream",
     "text": [
      "c:\\Users\\panka\\.virtualenvs\\gnn-powerflow-0Gf6W7zT\\Lib\\site-packages\\torch_geometric\\deprecation.py:26: UserWarning: 'data.DataLoader' is deprecated, use 'loader.DataLoader' instead\n",
      "  warnings.warn(out)\n"
     ]
    },
    {
     "name": "stdout",
     "output_type": "stream",
     "text": [
      "dataset 16\n",
      "Test loss (MSE): 0.0000509\n",
      "===========================\n"
     ]
    },
    {
     "name": "stderr",
     "output_type": "stream",
     "text": [
      "c:\\Users\\panka\\.virtualenvs\\gnn-powerflow-0Gf6W7zT\\Lib\\site-packages\\torch_geometric\\deprecation.py:26: UserWarning: 'data.DataLoader' is deprecated, use 'loader.DataLoader' instead\n",
      "  warnings.warn(out)\n"
     ]
    },
    {
     "name": "stdout",
     "output_type": "stream",
     "text": [
      "dataset 17\n",
      "Test loss (MSE): 0.0000613\n",
      "===========================\n"
     ]
    },
    {
     "name": "stderr",
     "output_type": "stream",
     "text": [
      "c:\\Users\\panka\\.virtualenvs\\gnn-powerflow-0Gf6W7zT\\Lib\\site-packages\\torch_geometric\\deprecation.py:26: UserWarning: 'data.DataLoader' is deprecated, use 'loader.DataLoader' instead\n",
      "  warnings.warn(out)\n"
     ]
    },
    {
     "name": "stdout",
     "output_type": "stream",
     "text": [
      "dataset 18\n",
      "Test loss (MSE): 0.0001289\n",
      "===========================\n"
     ]
    },
    {
     "name": "stderr",
     "output_type": "stream",
     "text": [
      "c:\\Users\\panka\\.virtualenvs\\gnn-powerflow-0Gf6W7zT\\Lib\\site-packages\\torch_geometric\\deprecation.py:26: UserWarning: 'data.DataLoader' is deprecated, use 'loader.DataLoader' instead\n",
      "  warnings.warn(out)\n"
     ]
    },
    {
     "name": "stdout",
     "output_type": "stream",
     "text": [
      "dataset 19\n",
      "Test loss (MSE): 0.0001046\n",
      "===========================\n"
     ]
    },
    {
     "name": "stderr",
     "output_type": "stream",
     "text": [
      "c:\\Users\\panka\\.virtualenvs\\gnn-powerflow-0Gf6W7zT\\Lib\\site-packages\\torch_geometric\\deprecation.py:26: UserWarning: 'data.DataLoader' is deprecated, use 'loader.DataLoader' instead\n",
      "  warnings.warn(out)\n"
     ]
    },
    {
     "name": "stdout",
     "output_type": "stream",
     "text": [
      "dataset 20\n",
      "Test loss (MSE): 0.0002369\n",
      "===========================\n"
     ]
    },
    {
     "name": "stderr",
     "output_type": "stream",
     "text": [
      "c:\\Users\\panka\\.virtualenvs\\gnn-powerflow-0Gf6W7zT\\Lib\\site-packages\\torch_geometric\\deprecation.py:26: UserWarning: 'data.DataLoader' is deprecated, use 'loader.DataLoader' instead\n",
      "  warnings.warn(out)\n"
     ]
    },
    {
     "name": "stdout",
     "output_type": "stream",
     "text": [
      "dataset 21\n",
      "Test loss (MSE): 0.0001337\n",
      "===========================\n"
     ]
    },
    {
     "name": "stderr",
     "output_type": "stream",
     "text": [
      "c:\\Users\\panka\\.virtualenvs\\gnn-powerflow-0Gf6W7zT\\Lib\\site-packages\\torch_geometric\\deprecation.py:26: UserWarning: 'data.DataLoader' is deprecated, use 'loader.DataLoader' instead\n",
      "  warnings.warn(out)\n"
     ]
    },
    {
     "name": "stdout",
     "output_type": "stream",
     "text": [
      "dataset 22\n",
      "Test loss (MSE): 0.0001051\n",
      "===========================\n"
     ]
    },
    {
     "name": "stderr",
     "output_type": "stream",
     "text": [
      "c:\\Users\\panka\\.virtualenvs\\gnn-powerflow-0Gf6W7zT\\Lib\\site-packages\\torch_geometric\\deprecation.py:26: UserWarning: 'data.DataLoader' is deprecated, use 'loader.DataLoader' instead\n",
      "  warnings.warn(out)\n"
     ]
    },
    {
     "name": "stdout",
     "output_type": "stream",
     "text": [
      "dataset 23\n",
      "Test loss (MSE): 0.0000894\n",
      "===========================\n"
     ]
    },
    {
     "name": "stderr",
     "output_type": "stream",
     "text": [
      "c:\\Users\\panka\\.virtualenvs\\gnn-powerflow-0Gf6W7zT\\Lib\\site-packages\\torch_geometric\\deprecation.py:26: UserWarning: 'data.DataLoader' is deprecated, use 'loader.DataLoader' instead\n",
      "  warnings.warn(out)\n"
     ]
    },
    {
     "name": "stdout",
     "output_type": "stream",
     "text": [
      "dataset 24\n",
      "Test loss (MSE): 0.0001066\n",
      "===========================\n"
     ]
    },
    {
     "name": "stderr",
     "output_type": "stream",
     "text": [
      "c:\\Users\\panka\\.virtualenvs\\gnn-powerflow-0Gf6W7zT\\Lib\\site-packages\\torch_geometric\\deprecation.py:26: UserWarning: 'data.DataLoader' is deprecated, use 'loader.DataLoader' instead\n",
      "  warnings.warn(out)\n"
     ]
    },
    {
     "name": "stdout",
     "output_type": "stream",
     "text": [
      "dataset 25\n",
      "Test loss (MSE): 0.0000976\n",
      "===========================\n"
     ]
    },
    {
     "name": "stderr",
     "output_type": "stream",
     "text": [
      "c:\\Users\\panka\\.virtualenvs\\gnn-powerflow-0Gf6W7zT\\Lib\\site-packages\\torch_geometric\\deprecation.py:26: UserWarning: 'data.DataLoader' is deprecated, use 'loader.DataLoader' instead\n",
      "  warnings.warn(out)\n"
     ]
    },
    {
     "name": "stdout",
     "output_type": "stream",
     "text": [
      "dataset 26\n",
      "Test loss (MSE): 0.0000878\n",
      "===========================\n"
     ]
    },
    {
     "name": "stderr",
     "output_type": "stream",
     "text": [
      "c:\\Users\\panka\\.virtualenvs\\gnn-powerflow-0Gf6W7zT\\Lib\\site-packages\\torch_geometric\\deprecation.py:26: UserWarning: 'data.DataLoader' is deprecated, use 'loader.DataLoader' instead\n",
      "  warnings.warn(out)\n"
     ]
    },
    {
     "name": "stdout",
     "output_type": "stream",
     "text": [
      "dataset 27\n",
      "Test loss (MSE): 0.0001667\n",
      "===========================\n"
     ]
    },
    {
     "name": "stderr",
     "output_type": "stream",
     "text": [
      "c:\\Users\\panka\\.virtualenvs\\gnn-powerflow-0Gf6W7zT\\Lib\\site-packages\\torch_geometric\\deprecation.py:26: UserWarning: 'data.DataLoader' is deprecated, use 'loader.DataLoader' instead\n",
      "  warnings.warn(out)\n"
     ]
    },
    {
     "name": "stdout",
     "output_type": "stream",
     "text": [
      "dataset 28\n",
      "Test loss (MSE): 0.0001937\n",
      "===========================\n"
     ]
    },
    {
     "name": "stderr",
     "output_type": "stream",
     "text": [
      "c:\\Users\\panka\\.virtualenvs\\gnn-powerflow-0Gf6W7zT\\Lib\\site-packages\\torch_geometric\\deprecation.py:26: UserWarning: 'data.DataLoader' is deprecated, use 'loader.DataLoader' instead\n",
      "  warnings.warn(out)\n"
     ]
    },
    {
     "name": "stdout",
     "output_type": "stream",
     "text": [
      "dataset 29\n",
      "Test loss (MSE): 0.0000880\n",
      "===========================\n"
     ]
    },
    {
     "name": "stderr",
     "output_type": "stream",
     "text": [
      "c:\\Users\\panka\\.virtualenvs\\gnn-powerflow-0Gf6W7zT\\Lib\\site-packages\\torch_geometric\\deprecation.py:26: UserWarning: 'data.DataLoader' is deprecated, use 'loader.DataLoader' instead\n",
      "  warnings.warn(out)\n"
     ]
    },
    {
     "name": "stdout",
     "output_type": "stream",
     "text": [
      "dataset 30\n",
      "Test loss (MSE): 0.0001737\n",
      "===========================\n"
     ]
    },
    {
     "name": "stderr",
     "output_type": "stream",
     "text": [
      "c:\\Users\\panka\\.virtualenvs\\gnn-powerflow-0Gf6W7zT\\Lib\\site-packages\\torch_geometric\\deprecation.py:26: UserWarning: 'data.DataLoader' is deprecated, use 'loader.DataLoader' instead\n",
      "  warnings.warn(out)\n"
     ]
    },
    {
     "name": "stdout",
     "output_type": "stream",
     "text": [
      "dataset 31\n",
      "Test loss (MSE): 0.0001323\n",
      "===========================\n"
     ]
    },
    {
     "name": "stderr",
     "output_type": "stream",
     "text": [
      "c:\\Users\\panka\\.virtualenvs\\gnn-powerflow-0Gf6W7zT\\Lib\\site-packages\\torch_geometric\\deprecation.py:26: UserWarning: 'data.DataLoader' is deprecated, use 'loader.DataLoader' instead\n",
      "  warnings.warn(out)\n"
     ]
    },
    {
     "name": "stdout",
     "output_type": "stream",
     "text": [
      "dataset 32\n",
      "Test loss (MSE): 0.0000615\n",
      "===========================\n"
     ]
    },
    {
     "name": "stderr",
     "output_type": "stream",
     "text": [
      "c:\\Users\\panka\\.virtualenvs\\gnn-powerflow-0Gf6W7zT\\Lib\\site-packages\\torch_geometric\\deprecation.py:26: UserWarning: 'data.DataLoader' is deprecated, use 'loader.DataLoader' instead\n",
      "  warnings.warn(out)\n"
     ]
    },
    {
     "name": "stdout",
     "output_type": "stream",
     "text": [
      "dataset 33\n",
      "Test loss (MSE): 0.0000668\n",
      "===========================\n"
     ]
    },
    {
     "name": "stderr",
     "output_type": "stream",
     "text": [
      "c:\\Users\\panka\\.virtualenvs\\gnn-powerflow-0Gf6W7zT\\Lib\\site-packages\\torch_geometric\\deprecation.py:26: UserWarning: 'data.DataLoader' is deprecated, use 'loader.DataLoader' instead\n",
      "  warnings.warn(out)\n"
     ]
    },
    {
     "name": "stdout",
     "output_type": "stream",
     "text": [
      "dataset 34\n",
      "Test loss (MSE): 0.0000761\n",
      "===========================\n"
     ]
    },
    {
     "name": "stderr",
     "output_type": "stream",
     "text": [
      "c:\\Users\\panka\\.virtualenvs\\gnn-powerflow-0Gf6W7zT\\Lib\\site-packages\\torch_geometric\\deprecation.py:26: UserWarning: 'data.DataLoader' is deprecated, use 'loader.DataLoader' instead\n",
      "  warnings.warn(out)\n"
     ]
    },
    {
     "name": "stdout",
     "output_type": "stream",
     "text": [
      "dataset 35\n",
      "Test loss (MSE): 0.0000596\n",
      "===========================\n"
     ]
    },
    {
     "name": "stderr",
     "output_type": "stream",
     "text": [
      "c:\\Users\\panka\\.virtualenvs\\gnn-powerflow-0Gf6W7zT\\Lib\\site-packages\\torch_geometric\\deprecation.py:26: UserWarning: 'data.DataLoader' is deprecated, use 'loader.DataLoader' instead\n",
      "  warnings.warn(out)\n"
     ]
    },
    {
     "name": "stdout",
     "output_type": "stream",
     "text": [
      "dataset 36\n",
      "Test loss (MSE): 0.0001000\n",
      "===========================\n"
     ]
    },
    {
     "name": "stderr",
     "output_type": "stream",
     "text": [
      "c:\\Users\\panka\\.virtualenvs\\gnn-powerflow-0Gf6W7zT\\Lib\\site-packages\\torch_geometric\\deprecation.py:26: UserWarning: 'data.DataLoader' is deprecated, use 'loader.DataLoader' instead\n",
      "  warnings.warn(out)\n"
     ]
    },
    {
     "name": "stdout",
     "output_type": "stream",
     "text": [
      "dataset 37\n",
      "Test loss (MSE): 0.0000680\n",
      "===========================\n"
     ]
    },
    {
     "name": "stderr",
     "output_type": "stream",
     "text": [
      "c:\\Users\\panka\\.virtualenvs\\gnn-powerflow-0Gf6W7zT\\Lib\\site-packages\\torch_geometric\\deprecation.py:26: UserWarning: 'data.DataLoader' is deprecated, use 'loader.DataLoader' instead\n",
      "  warnings.warn(out)\n"
     ]
    },
    {
     "name": "stdout",
     "output_type": "stream",
     "text": [
      "dataset 38\n",
      "Test loss (MSE): 0.0001038\n",
      "===========================\n"
     ]
    },
    {
     "name": "stderr",
     "output_type": "stream",
     "text": [
      "c:\\Users\\panka\\.virtualenvs\\gnn-powerflow-0Gf6W7zT\\Lib\\site-packages\\torch_geometric\\deprecation.py:26: UserWarning: 'data.DataLoader' is deprecated, use 'loader.DataLoader' instead\n",
      "  warnings.warn(out)\n"
     ]
    },
    {
     "name": "stdout",
     "output_type": "stream",
     "text": [
      "dataset 39\n",
      "Test loss (MSE): 0.0001090\n",
      "===========================\n"
     ]
    },
    {
     "name": "stderr",
     "output_type": "stream",
     "text": [
      "c:\\Users\\panka\\.virtualenvs\\gnn-powerflow-0Gf6W7zT\\Lib\\site-packages\\torch_geometric\\deprecation.py:26: UserWarning: 'data.DataLoader' is deprecated, use 'loader.DataLoader' instead\n",
      "  warnings.warn(out)\n"
     ]
    },
    {
     "name": "stdout",
     "output_type": "stream",
     "text": [
      "dataset 40\n",
      "Test loss (MSE): 0.0001692\n",
      "===========================\n"
     ]
    },
    {
     "name": "stderr",
     "output_type": "stream",
     "text": [
      "c:\\Users\\panka\\.virtualenvs\\gnn-powerflow-0Gf6W7zT\\Lib\\site-packages\\torch_geometric\\deprecation.py:26: UserWarning: 'data.DataLoader' is deprecated, use 'loader.DataLoader' instead\n",
      "  warnings.warn(out)\n"
     ]
    },
    {
     "name": "stdout",
     "output_type": "stream",
     "text": [
      "dataset 41\n",
      "Test loss (MSE): 0.0000602\n",
      "===========================\n"
     ]
    },
    {
     "name": "stderr",
     "output_type": "stream",
     "text": [
      "c:\\Users\\panka\\.virtualenvs\\gnn-powerflow-0Gf6W7zT\\Lib\\site-packages\\torch_geometric\\deprecation.py:26: UserWarning: 'data.DataLoader' is deprecated, use 'loader.DataLoader' instead\n",
      "  warnings.warn(out)\n"
     ]
    },
    {
     "name": "stdout",
     "output_type": "stream",
     "text": [
      "dataset 42\n",
      "Test loss (MSE): 0.0001742\n",
      "===========================\n"
     ]
    },
    {
     "name": "stderr",
     "output_type": "stream",
     "text": [
      "c:\\Users\\panka\\.virtualenvs\\gnn-powerflow-0Gf6W7zT\\Lib\\site-packages\\torch_geometric\\deprecation.py:26: UserWarning: 'data.DataLoader' is deprecated, use 'loader.DataLoader' instead\n",
      "  warnings.warn(out)\n"
     ]
    },
    {
     "name": "stdout",
     "output_type": "stream",
     "text": [
      "dataset 43\n",
      "Test loss (MSE): 0.0000860\n",
      "===========================\n"
     ]
    },
    {
     "name": "stderr",
     "output_type": "stream",
     "text": [
      "c:\\Users\\panka\\.virtualenvs\\gnn-powerflow-0Gf6W7zT\\Lib\\site-packages\\torch_geometric\\deprecation.py:26: UserWarning: 'data.DataLoader' is deprecated, use 'loader.DataLoader' instead\n",
      "  warnings.warn(out)\n"
     ]
    },
    {
     "name": "stdout",
     "output_type": "stream",
     "text": [
      "dataset 44\n",
      "Test loss (MSE): 0.0001276\n",
      "===========================\n"
     ]
    },
    {
     "name": "stderr",
     "output_type": "stream",
     "text": [
      "c:\\Users\\panka\\.virtualenvs\\gnn-powerflow-0Gf6W7zT\\Lib\\site-packages\\torch_geometric\\deprecation.py:26: UserWarning: 'data.DataLoader' is deprecated, use 'loader.DataLoader' instead\n",
      "  warnings.warn(out)\n"
     ]
    },
    {
     "name": "stdout",
     "output_type": "stream",
     "text": [
      "dataset 45\n",
      "Test loss (MSE): 0.0001118\n",
      "===========================\n"
     ]
    },
    {
     "name": "stderr",
     "output_type": "stream",
     "text": [
      "c:\\Users\\panka\\.virtualenvs\\gnn-powerflow-0Gf6W7zT\\Lib\\site-packages\\torch_geometric\\deprecation.py:26: UserWarning: 'data.DataLoader' is deprecated, use 'loader.DataLoader' instead\n",
      "  warnings.warn(out)\n"
     ]
    },
    {
     "name": "stdout",
     "output_type": "stream",
     "text": [
      "dataset 46\n",
      "Test loss (MSE): 0.0001132\n",
      "===========================\n"
     ]
    },
    {
     "name": "stderr",
     "output_type": "stream",
     "text": [
      "c:\\Users\\panka\\.virtualenvs\\gnn-powerflow-0Gf6W7zT\\Lib\\site-packages\\torch_geometric\\deprecation.py:26: UserWarning: 'data.DataLoader' is deprecated, use 'loader.DataLoader' instead\n",
      "  warnings.warn(out)\n"
     ]
    },
    {
     "name": "stdout",
     "output_type": "stream",
     "text": [
      "dataset 47\n",
      "Test loss (MSE): 0.0001171\n",
      "===========================\n"
     ]
    },
    {
     "name": "stderr",
     "output_type": "stream",
     "text": [
      "c:\\Users\\panka\\.virtualenvs\\gnn-powerflow-0Gf6W7zT\\Lib\\site-packages\\torch_geometric\\deprecation.py:26: UserWarning: 'data.DataLoader' is deprecated, use 'loader.DataLoader' instead\n",
      "  warnings.warn(out)\n"
     ]
    },
    {
     "name": "stdout",
     "output_type": "stream",
     "text": [
      "dataset 48\n",
      "Test loss (MSE): 0.0001081\n",
      "===========================\n"
     ]
    },
    {
     "name": "stderr",
     "output_type": "stream",
     "text": [
      "c:\\Users\\panka\\.virtualenvs\\gnn-powerflow-0Gf6W7zT\\Lib\\site-packages\\torch_geometric\\deprecation.py:26: UserWarning: 'data.DataLoader' is deprecated, use 'loader.DataLoader' instead\n",
      "  warnings.warn(out)\n"
     ]
    },
    {
     "name": "stdout",
     "output_type": "stream",
     "text": [
      "dataset 49\n",
      "Test loss (MSE): 0.0000821\n",
      "===========================\n"
     ]
    },
    {
     "name": "stderr",
     "output_type": "stream",
     "text": [
      "c:\\Users\\panka\\.virtualenvs\\gnn-powerflow-0Gf6W7zT\\Lib\\site-packages\\torch_geometric\\deprecation.py:26: UserWarning: 'data.DataLoader' is deprecated, use 'loader.DataLoader' instead\n",
      "  warnings.warn(out)\n"
     ]
    },
    {
     "name": "stdout",
     "output_type": "stream",
     "text": [
      "dataset 50\n",
      "Test loss (MSE): 0.0000860\n",
      "===========================\n"
     ]
    },
    {
     "name": "stderr",
     "output_type": "stream",
     "text": [
      "c:\\Users\\panka\\.virtualenvs\\gnn-powerflow-0Gf6W7zT\\Lib\\site-packages\\torch_geometric\\deprecation.py:26: UserWarning: 'data.DataLoader' is deprecated, use 'loader.DataLoader' instead\n",
      "  warnings.warn(out)\n"
     ]
    },
    {
     "name": "stdout",
     "output_type": "stream",
     "text": [
      "dataset 51\n",
      "Test loss (MSE): 0.0001103\n",
      "===========================\n"
     ]
    },
    {
     "name": "stderr",
     "output_type": "stream",
     "text": [
      "c:\\Users\\panka\\.virtualenvs\\gnn-powerflow-0Gf6W7zT\\Lib\\site-packages\\torch_geometric\\deprecation.py:26: UserWarning: 'data.DataLoader' is deprecated, use 'loader.DataLoader' instead\n",
      "  warnings.warn(out)\n"
     ]
    },
    {
     "name": "stdout",
     "output_type": "stream",
     "text": [
      "dataset 52\n",
      "Test loss (MSE): 0.0002053\n",
      "===========================\n"
     ]
    },
    {
     "name": "stderr",
     "output_type": "stream",
     "text": [
      "c:\\Users\\panka\\.virtualenvs\\gnn-powerflow-0Gf6W7zT\\Lib\\site-packages\\torch_geometric\\deprecation.py:26: UserWarning: 'data.DataLoader' is deprecated, use 'loader.DataLoader' instead\n",
      "  warnings.warn(out)\n"
     ]
    },
    {
     "name": "stdout",
     "output_type": "stream",
     "text": [
      "dataset 53\n",
      "Test loss (MSE): 0.0000531\n",
      "===========================\n"
     ]
    },
    {
     "name": "stderr",
     "output_type": "stream",
     "text": [
      "c:\\Users\\panka\\.virtualenvs\\gnn-powerflow-0Gf6W7zT\\Lib\\site-packages\\torch_geometric\\deprecation.py:26: UserWarning: 'data.DataLoader' is deprecated, use 'loader.DataLoader' instead\n",
      "  warnings.warn(out)\n"
     ]
    },
    {
     "name": "stdout",
     "output_type": "stream",
     "text": [
      "dataset 54\n",
      "Test loss (MSE): 0.0001065\n",
      "===========================\n"
     ]
    },
    {
     "name": "stderr",
     "output_type": "stream",
     "text": [
      "c:\\Users\\panka\\.virtualenvs\\gnn-powerflow-0Gf6W7zT\\Lib\\site-packages\\torch_geometric\\deprecation.py:26: UserWarning: 'data.DataLoader' is deprecated, use 'loader.DataLoader' instead\n",
      "  warnings.warn(out)\n"
     ]
    },
    {
     "name": "stdout",
     "output_type": "stream",
     "text": [
      "dataset 55\n",
      "Test loss (MSE): 0.0001616\n",
      "===========================\n"
     ]
    },
    {
     "name": "stderr",
     "output_type": "stream",
     "text": [
      "c:\\Users\\panka\\.virtualenvs\\gnn-powerflow-0Gf6W7zT\\Lib\\site-packages\\torch_geometric\\deprecation.py:26: UserWarning: 'data.DataLoader' is deprecated, use 'loader.DataLoader' instead\n",
      "  warnings.warn(out)\n"
     ]
    },
    {
     "name": "stdout",
     "output_type": "stream",
     "text": [
      "dataset 56\n",
      "Test loss (MSE): 0.0001490\n",
      "===========================\n"
     ]
    },
    {
     "name": "stderr",
     "output_type": "stream",
     "text": [
      "c:\\Users\\panka\\.virtualenvs\\gnn-powerflow-0Gf6W7zT\\Lib\\site-packages\\torch_geometric\\deprecation.py:26: UserWarning: 'data.DataLoader' is deprecated, use 'loader.DataLoader' instead\n",
      "  warnings.warn(out)\n"
     ]
    },
    {
     "name": "stdout",
     "output_type": "stream",
     "text": [
      "dataset 57\n",
      "Test loss (MSE): 0.0000997\n",
      "===========================\n"
     ]
    },
    {
     "name": "stderr",
     "output_type": "stream",
     "text": [
      "c:\\Users\\panka\\.virtualenvs\\gnn-powerflow-0Gf6W7zT\\Lib\\site-packages\\torch_geometric\\deprecation.py:26: UserWarning: 'data.DataLoader' is deprecated, use 'loader.DataLoader' instead\n",
      "  warnings.warn(out)\n"
     ]
    },
    {
     "name": "stdout",
     "output_type": "stream",
     "text": [
      "dataset 58\n",
      "Test loss (MSE): 0.0000757\n",
      "===========================\n"
     ]
    },
    {
     "name": "stderr",
     "output_type": "stream",
     "text": [
      "c:\\Users\\panka\\.virtualenvs\\gnn-powerflow-0Gf6W7zT\\Lib\\site-packages\\torch_geometric\\deprecation.py:26: UserWarning: 'data.DataLoader' is deprecated, use 'loader.DataLoader' instead\n",
      "  warnings.warn(out)\n"
     ]
    },
    {
     "name": "stdout",
     "output_type": "stream",
     "text": [
      "dataset 59\n",
      "Test loss (MSE): 0.0001482\n",
      "===========================\n"
     ]
    },
    {
     "name": "stderr",
     "output_type": "stream",
     "text": [
      "c:\\Users\\panka\\.virtualenvs\\gnn-powerflow-0Gf6W7zT\\Lib\\site-packages\\torch_geometric\\deprecation.py:26: UserWarning: 'data.DataLoader' is deprecated, use 'loader.DataLoader' instead\n",
      "  warnings.warn(out)\n"
     ]
    },
    {
     "name": "stdout",
     "output_type": "stream",
     "text": [
      "dataset 60\n",
      "Test loss (MSE): 0.0003300\n",
      "===========================\n"
     ]
    },
    {
     "name": "stderr",
     "output_type": "stream",
     "text": [
      "c:\\Users\\panka\\.virtualenvs\\gnn-powerflow-0Gf6W7zT\\Lib\\site-packages\\torch_geometric\\deprecation.py:26: UserWarning: 'data.DataLoader' is deprecated, use 'loader.DataLoader' instead\n",
      "  warnings.warn(out)\n"
     ]
    },
    {
     "name": "stdout",
     "output_type": "stream",
     "text": [
      "dataset 61\n",
      "Test loss (MSE): 0.0000898\n",
      "===========================\n"
     ]
    },
    {
     "name": "stderr",
     "output_type": "stream",
     "text": [
      "c:\\Users\\panka\\.virtualenvs\\gnn-powerflow-0Gf6W7zT\\Lib\\site-packages\\torch_geometric\\deprecation.py:26: UserWarning: 'data.DataLoader' is deprecated, use 'loader.DataLoader' instead\n",
      "  warnings.warn(out)\n"
     ]
    },
    {
     "name": "stdout",
     "output_type": "stream",
     "text": [
      "dataset 62\n",
      "Test loss (MSE): 0.0001593\n",
      "===========================\n"
     ]
    },
    {
     "name": "stderr",
     "output_type": "stream",
     "text": [
      "c:\\Users\\panka\\.virtualenvs\\gnn-powerflow-0Gf6W7zT\\Lib\\site-packages\\torch_geometric\\deprecation.py:26: UserWarning: 'data.DataLoader' is deprecated, use 'loader.DataLoader' instead\n",
      "  warnings.warn(out)\n"
     ]
    },
    {
     "name": "stdout",
     "output_type": "stream",
     "text": [
      "dataset 63\n",
      "Test loss (MSE): 0.0000626\n",
      "===========================\n"
     ]
    },
    {
     "name": "stderr",
     "output_type": "stream",
     "text": [
      "c:\\Users\\panka\\.virtualenvs\\gnn-powerflow-0Gf6W7zT\\Lib\\site-packages\\torch_geometric\\deprecation.py:26: UserWarning: 'data.DataLoader' is deprecated, use 'loader.DataLoader' instead\n",
      "  warnings.warn(out)\n"
     ]
    },
    {
     "name": "stdout",
     "output_type": "stream",
     "text": [
      "dataset 64\n",
      "Test loss (MSE): 0.0001480\n",
      "===========================\n"
     ]
    },
    {
     "name": "stderr",
     "output_type": "stream",
     "text": [
      "c:\\Users\\panka\\.virtualenvs\\gnn-powerflow-0Gf6W7zT\\Lib\\site-packages\\torch_geometric\\deprecation.py:26: UserWarning: 'data.DataLoader' is deprecated, use 'loader.DataLoader' instead\n",
      "  warnings.warn(out)\n"
     ]
    },
    {
     "name": "stdout",
     "output_type": "stream",
     "text": [
      "dataset 65\n",
      "Test loss (MSE): 0.0000916\n",
      "===========================\n"
     ]
    },
    {
     "name": "stderr",
     "output_type": "stream",
     "text": [
      "c:\\Users\\panka\\.virtualenvs\\gnn-powerflow-0Gf6W7zT\\Lib\\site-packages\\torch_geometric\\deprecation.py:26: UserWarning: 'data.DataLoader' is deprecated, use 'loader.DataLoader' instead\n",
      "  warnings.warn(out)\n"
     ]
    },
    {
     "name": "stdout",
     "output_type": "stream",
     "text": [
      "dataset 66\n",
      "Test loss (MSE): 0.0002166\n",
      "===========================\n"
     ]
    },
    {
     "name": "stderr",
     "output_type": "stream",
     "text": [
      "c:\\Users\\panka\\.virtualenvs\\gnn-powerflow-0Gf6W7zT\\Lib\\site-packages\\torch_geometric\\deprecation.py:26: UserWarning: 'data.DataLoader' is deprecated, use 'loader.DataLoader' instead\n",
      "  warnings.warn(out)\n"
     ]
    },
    {
     "name": "stdout",
     "output_type": "stream",
     "text": [
      "dataset 67\n",
      "Test loss (MSE): 0.0000835\n",
      "===========================\n"
     ]
    },
    {
     "name": "stderr",
     "output_type": "stream",
     "text": [
      "c:\\Users\\panka\\.virtualenvs\\gnn-powerflow-0Gf6W7zT\\Lib\\site-packages\\torch_geometric\\deprecation.py:26: UserWarning: 'data.DataLoader' is deprecated, use 'loader.DataLoader' instead\n",
      "  warnings.warn(out)\n"
     ]
    },
    {
     "name": "stdout",
     "output_type": "stream",
     "text": [
      "dataset 68\n",
      "Test loss (MSE): 0.0001649\n",
      "===========================\n"
     ]
    },
    {
     "name": "stderr",
     "output_type": "stream",
     "text": [
      "c:\\Users\\panka\\.virtualenvs\\gnn-powerflow-0Gf6W7zT\\Lib\\site-packages\\torch_geometric\\deprecation.py:26: UserWarning: 'data.DataLoader' is deprecated, use 'loader.DataLoader' instead\n",
      "  warnings.warn(out)\n"
     ]
    },
    {
     "name": "stdout",
     "output_type": "stream",
     "text": [
      "dataset 69\n",
      "Test loss (MSE): 0.0000808\n",
      "===========================\n"
     ]
    },
    {
     "name": "stderr",
     "output_type": "stream",
     "text": [
      "c:\\Users\\panka\\.virtualenvs\\gnn-powerflow-0Gf6W7zT\\Lib\\site-packages\\torch_geometric\\deprecation.py:26: UserWarning: 'data.DataLoader' is deprecated, use 'loader.DataLoader' instead\n",
      "  warnings.warn(out)\n"
     ]
    },
    {
     "name": "stdout",
     "output_type": "stream",
     "text": [
      "dataset 70\n",
      "Test loss (MSE): 0.0001792\n",
      "===========================\n"
     ]
    },
    {
     "name": "stderr",
     "output_type": "stream",
     "text": [
      "c:\\Users\\panka\\.virtualenvs\\gnn-powerflow-0Gf6W7zT\\Lib\\site-packages\\torch_geometric\\deprecation.py:26: UserWarning: 'data.DataLoader' is deprecated, use 'loader.DataLoader' instead\n",
      "  warnings.warn(out)\n"
     ]
    },
    {
     "name": "stdout",
     "output_type": "stream",
     "text": [
      "dataset 71\n",
      "Test loss (MSE): 0.0001522\n",
      "===========================\n"
     ]
    },
    {
     "name": "stderr",
     "output_type": "stream",
     "text": [
      "c:\\Users\\panka\\.virtualenvs\\gnn-powerflow-0Gf6W7zT\\Lib\\site-packages\\torch_geometric\\deprecation.py:26: UserWarning: 'data.DataLoader' is deprecated, use 'loader.DataLoader' instead\n",
      "  warnings.warn(out)\n"
     ]
    },
    {
     "name": "stdout",
     "output_type": "stream",
     "text": [
      "dataset 72\n",
      "Test loss (MSE): 0.0000972\n",
      "===========================\n"
     ]
    },
    {
     "name": "stderr",
     "output_type": "stream",
     "text": [
      "c:\\Users\\panka\\.virtualenvs\\gnn-powerflow-0Gf6W7zT\\Lib\\site-packages\\torch_geometric\\deprecation.py:26: UserWarning: 'data.DataLoader' is deprecated, use 'loader.DataLoader' instead\n",
      "  warnings.warn(out)\n"
     ]
    },
    {
     "name": "stdout",
     "output_type": "stream",
     "text": [
      "dataset 73\n",
      "Test loss (MSE): 0.0002833\n",
      "===========================\n"
     ]
    },
    {
     "name": "stderr",
     "output_type": "stream",
     "text": [
      "c:\\Users\\panka\\.virtualenvs\\gnn-powerflow-0Gf6W7zT\\Lib\\site-packages\\torch_geometric\\deprecation.py:26: UserWarning: 'data.DataLoader' is deprecated, use 'loader.DataLoader' instead\n",
      "  warnings.warn(out)\n"
     ]
    },
    {
     "name": "stdout",
     "output_type": "stream",
     "text": [
      "dataset 74\n",
      "Test loss (MSE): 0.0001096\n",
      "===========================\n"
     ]
    },
    {
     "name": "stderr",
     "output_type": "stream",
     "text": [
      "c:\\Users\\panka\\.virtualenvs\\gnn-powerflow-0Gf6W7zT\\Lib\\site-packages\\torch_geometric\\deprecation.py:26: UserWarning: 'data.DataLoader' is deprecated, use 'loader.DataLoader' instead\n",
      "  warnings.warn(out)\n"
     ]
    },
    {
     "name": "stdout",
     "output_type": "stream",
     "text": [
      "dataset 75\n",
      "Test loss (MSE): 0.0001546\n",
      "===========================\n"
     ]
    },
    {
     "name": "stderr",
     "output_type": "stream",
     "text": [
      "c:\\Users\\panka\\.virtualenvs\\gnn-powerflow-0Gf6W7zT\\Lib\\site-packages\\torch_geometric\\deprecation.py:26: UserWarning: 'data.DataLoader' is deprecated, use 'loader.DataLoader' instead\n",
      "  warnings.warn(out)\n"
     ]
    },
    {
     "name": "stdout",
     "output_type": "stream",
     "text": [
      "dataset 76\n",
      "Test loss (MSE): 0.0000971\n",
      "===========================\n"
     ]
    },
    {
     "name": "stderr",
     "output_type": "stream",
     "text": [
      "c:\\Users\\panka\\.virtualenvs\\gnn-powerflow-0Gf6W7zT\\Lib\\site-packages\\torch_geometric\\deprecation.py:26: UserWarning: 'data.DataLoader' is deprecated, use 'loader.DataLoader' instead\n",
      "  warnings.warn(out)\n"
     ]
    },
    {
     "name": "stdout",
     "output_type": "stream",
     "text": [
      "dataset 77\n",
      "Test loss (MSE): 0.0000861\n",
      "===========================\n"
     ]
    },
    {
     "name": "stderr",
     "output_type": "stream",
     "text": [
      "c:\\Users\\panka\\.virtualenvs\\gnn-powerflow-0Gf6W7zT\\Lib\\site-packages\\torch_geometric\\deprecation.py:26: UserWarning: 'data.DataLoader' is deprecated, use 'loader.DataLoader' instead\n",
      "  warnings.warn(out)\n"
     ]
    },
    {
     "name": "stdout",
     "output_type": "stream",
     "text": [
      "dataset 78\n",
      "Test loss (MSE): 0.0003070\n",
      "===========================\n"
     ]
    },
    {
     "name": "stderr",
     "output_type": "stream",
     "text": [
      "c:\\Users\\panka\\.virtualenvs\\gnn-powerflow-0Gf6W7zT\\Lib\\site-packages\\torch_geometric\\deprecation.py:26: UserWarning: 'data.DataLoader' is deprecated, use 'loader.DataLoader' instead\n",
      "  warnings.warn(out)\n"
     ]
    },
    {
     "name": "stdout",
     "output_type": "stream",
     "text": [
      "dataset 79\n",
      "Test loss (MSE): 0.0000822\n",
      "===========================\n"
     ]
    },
    {
     "name": "stderr",
     "output_type": "stream",
     "text": [
      "c:\\Users\\panka\\.virtualenvs\\gnn-powerflow-0Gf6W7zT\\Lib\\site-packages\\torch_geometric\\deprecation.py:26: UserWarning: 'data.DataLoader' is deprecated, use 'loader.DataLoader' instead\n",
      "  warnings.warn(out)\n"
     ]
    },
    {
     "name": "stdout",
     "output_type": "stream",
     "text": [
      "dataset 80\n",
      "Test loss (MSE): 0.0000565\n",
      "===========================\n"
     ]
    },
    {
     "name": "stderr",
     "output_type": "stream",
     "text": [
      "c:\\Users\\panka\\.virtualenvs\\gnn-powerflow-0Gf6W7zT\\Lib\\site-packages\\torch_geometric\\deprecation.py:26: UserWarning: 'data.DataLoader' is deprecated, use 'loader.DataLoader' instead\n",
      "  warnings.warn(out)\n"
     ]
    },
    {
     "name": "stdout",
     "output_type": "stream",
     "text": [
      "dataset 81\n",
      "Test loss (MSE): 0.0001744\n",
      "===========================\n"
     ]
    },
    {
     "name": "stderr",
     "output_type": "stream",
     "text": [
      "c:\\Users\\panka\\.virtualenvs\\gnn-powerflow-0Gf6W7zT\\Lib\\site-packages\\torch_geometric\\deprecation.py:26: UserWarning: 'data.DataLoader' is deprecated, use 'loader.DataLoader' instead\n",
      "  warnings.warn(out)\n"
     ]
    },
    {
     "name": "stdout",
     "output_type": "stream",
     "text": [
      "dataset 82\n",
      "Test loss (MSE): 0.0001557\n",
      "===========================\n"
     ]
    },
    {
     "name": "stderr",
     "output_type": "stream",
     "text": [
      "c:\\Users\\panka\\.virtualenvs\\gnn-powerflow-0Gf6W7zT\\Lib\\site-packages\\torch_geometric\\deprecation.py:26: UserWarning: 'data.DataLoader' is deprecated, use 'loader.DataLoader' instead\n",
      "  warnings.warn(out)\n"
     ]
    },
    {
     "name": "stdout",
     "output_type": "stream",
     "text": [
      "dataset 83\n",
      "Test loss (MSE): 0.0001343\n",
      "===========================\n"
     ]
    },
    {
     "name": "stderr",
     "output_type": "stream",
     "text": [
      "c:\\Users\\panka\\.virtualenvs\\gnn-powerflow-0Gf6W7zT\\Lib\\site-packages\\torch_geometric\\deprecation.py:26: UserWarning: 'data.DataLoader' is deprecated, use 'loader.DataLoader' instead\n",
      "  warnings.warn(out)\n"
     ]
    },
    {
     "name": "stdout",
     "output_type": "stream",
     "text": [
      "dataset 84\n",
      "Test loss (MSE): 0.0000686\n",
      "===========================\n"
     ]
    },
    {
     "name": "stderr",
     "output_type": "stream",
     "text": [
      "c:\\Users\\panka\\.virtualenvs\\gnn-powerflow-0Gf6W7zT\\Lib\\site-packages\\torch_geometric\\deprecation.py:26: UserWarning: 'data.DataLoader' is deprecated, use 'loader.DataLoader' instead\n",
      "  warnings.warn(out)\n"
     ]
    },
    {
     "name": "stdout",
     "output_type": "stream",
     "text": [
      "dataset 85\n",
      "Test loss (MSE): 0.0001282\n",
      "===========================\n"
     ]
    },
    {
     "name": "stderr",
     "output_type": "stream",
     "text": [
      "c:\\Users\\panka\\.virtualenvs\\gnn-powerflow-0Gf6W7zT\\Lib\\site-packages\\torch_geometric\\deprecation.py:26: UserWarning: 'data.DataLoader' is deprecated, use 'loader.DataLoader' instead\n",
      "  warnings.warn(out)\n"
     ]
    },
    {
     "name": "stdout",
     "output_type": "stream",
     "text": [
      "dataset 86\n",
      "Test loss (MSE): 0.0000695\n",
      "===========================\n"
     ]
    },
    {
     "name": "stderr",
     "output_type": "stream",
     "text": [
      "c:\\Users\\panka\\.virtualenvs\\gnn-powerflow-0Gf6W7zT\\Lib\\site-packages\\torch_geometric\\deprecation.py:26: UserWarning: 'data.DataLoader' is deprecated, use 'loader.DataLoader' instead\n",
      "  warnings.warn(out)\n"
     ]
    },
    {
     "name": "stdout",
     "output_type": "stream",
     "text": [
      "dataset 87\n",
      "Test loss (MSE): 0.0000970\n",
      "===========================\n"
     ]
    },
    {
     "name": "stderr",
     "output_type": "stream",
     "text": [
      "c:\\Users\\panka\\.virtualenvs\\gnn-powerflow-0Gf6W7zT\\Lib\\site-packages\\torch_geometric\\deprecation.py:26: UserWarning: 'data.DataLoader' is deprecated, use 'loader.DataLoader' instead\n",
      "  warnings.warn(out)\n"
     ]
    },
    {
     "name": "stdout",
     "output_type": "stream",
     "text": [
      "dataset 88\n",
      "Test loss (MSE): 0.0001259\n",
      "===========================\n"
     ]
    },
    {
     "name": "stderr",
     "output_type": "stream",
     "text": [
      "c:\\Users\\panka\\.virtualenvs\\gnn-powerflow-0Gf6W7zT\\Lib\\site-packages\\torch_geometric\\deprecation.py:26: UserWarning: 'data.DataLoader' is deprecated, use 'loader.DataLoader' instead\n",
      "  warnings.warn(out)\n"
     ]
    },
    {
     "name": "stdout",
     "output_type": "stream",
     "text": [
      "dataset 89\n",
      "Test loss (MSE): 0.0003668\n",
      "===========================\n"
     ]
    },
    {
     "name": "stderr",
     "output_type": "stream",
     "text": [
      "c:\\Users\\panka\\.virtualenvs\\gnn-powerflow-0Gf6W7zT\\Lib\\site-packages\\torch_geometric\\deprecation.py:26: UserWarning: 'data.DataLoader' is deprecated, use 'loader.DataLoader' instead\n",
      "  warnings.warn(out)\n"
     ]
    },
    {
     "name": "stdout",
     "output_type": "stream",
     "text": [
      "dataset 90\n",
      "Test loss (MSE): 0.0000975\n",
      "===========================\n"
     ]
    },
    {
     "name": "stderr",
     "output_type": "stream",
     "text": [
      "c:\\Users\\panka\\.virtualenvs\\gnn-powerflow-0Gf6W7zT\\Lib\\site-packages\\torch_geometric\\deprecation.py:26: UserWarning: 'data.DataLoader' is deprecated, use 'loader.DataLoader' instead\n",
      "  warnings.warn(out)\n"
     ]
    },
    {
     "name": "stdout",
     "output_type": "stream",
     "text": [
      "dataset 91\n",
      "Test loss (MSE): 0.0003089\n",
      "===========================\n"
     ]
    },
    {
     "name": "stderr",
     "output_type": "stream",
     "text": [
      "c:\\Users\\panka\\.virtualenvs\\gnn-powerflow-0Gf6W7zT\\Lib\\site-packages\\torch_geometric\\deprecation.py:26: UserWarning: 'data.DataLoader' is deprecated, use 'loader.DataLoader' instead\n",
      "  warnings.warn(out)\n"
     ]
    },
    {
     "name": "stdout",
     "output_type": "stream",
     "text": [
      "dataset 92\n",
      "Test loss (MSE): 0.0001690\n",
      "===========================\n"
     ]
    },
    {
     "name": "stderr",
     "output_type": "stream",
     "text": [
      "c:\\Users\\panka\\.virtualenvs\\gnn-powerflow-0Gf6W7zT\\Lib\\site-packages\\torch_geometric\\deprecation.py:26: UserWarning: 'data.DataLoader' is deprecated, use 'loader.DataLoader' instead\n",
      "  warnings.warn(out)\n"
     ]
    },
    {
     "name": "stdout",
     "output_type": "stream",
     "text": [
      "dataset 93\n",
      "Test loss (MSE): 0.0001865\n",
      "===========================\n"
     ]
    },
    {
     "name": "stderr",
     "output_type": "stream",
     "text": [
      "c:\\Users\\panka\\.virtualenvs\\gnn-powerflow-0Gf6W7zT\\Lib\\site-packages\\torch_geometric\\deprecation.py:26: UserWarning: 'data.DataLoader' is deprecated, use 'loader.DataLoader' instead\n",
      "  warnings.warn(out)\n"
     ]
    },
    {
     "name": "stdout",
     "output_type": "stream",
     "text": [
      "dataset 94\n",
      "Test loss (MSE): 0.0000474\n",
      "===========================\n"
     ]
    },
    {
     "name": "stderr",
     "output_type": "stream",
     "text": [
      "c:\\Users\\panka\\.virtualenvs\\gnn-powerflow-0Gf6W7zT\\Lib\\site-packages\\torch_geometric\\deprecation.py:26: UserWarning: 'data.DataLoader' is deprecated, use 'loader.DataLoader' instead\n",
      "  warnings.warn(out)\n"
     ]
    },
    {
     "name": "stdout",
     "output_type": "stream",
     "text": [
      "dataset 95\n",
      "Test loss (MSE): 0.0001806\n",
      "===========================\n"
     ]
    },
    {
     "name": "stderr",
     "output_type": "stream",
     "text": [
      "c:\\Users\\panka\\.virtualenvs\\gnn-powerflow-0Gf6W7zT\\Lib\\site-packages\\torch_geometric\\deprecation.py:26: UserWarning: 'data.DataLoader' is deprecated, use 'loader.DataLoader' instead\n",
      "  warnings.warn(out)\n"
     ]
    },
    {
     "name": "stdout",
     "output_type": "stream",
     "text": [
      "dataset 96\n",
      "Test loss (MSE): 0.0001095\n",
      "===========================\n"
     ]
    },
    {
     "name": "stderr",
     "output_type": "stream",
     "text": [
      "c:\\Users\\panka\\.virtualenvs\\gnn-powerflow-0Gf6W7zT\\Lib\\site-packages\\torch_geometric\\deprecation.py:26: UserWarning: 'data.DataLoader' is deprecated, use 'loader.DataLoader' instead\n",
      "  warnings.warn(out)\n"
     ]
    },
    {
     "name": "stdout",
     "output_type": "stream",
     "text": [
      "dataset 97\n",
      "Test loss (MSE): 0.0001370\n",
      "===========================\n"
     ]
    },
    {
     "name": "stderr",
     "output_type": "stream",
     "text": [
      "c:\\Users\\panka\\.virtualenvs\\gnn-powerflow-0Gf6W7zT\\Lib\\site-packages\\torch_geometric\\deprecation.py:26: UserWarning: 'data.DataLoader' is deprecated, use 'loader.DataLoader' instead\n",
      "  warnings.warn(out)\n"
     ]
    },
    {
     "name": "stdout",
     "output_type": "stream",
     "text": [
      "dataset 98\n",
      "Test loss (MSE): 0.0000585\n",
      "===========================\n"
     ]
    },
    {
     "name": "stderr",
     "output_type": "stream",
     "text": [
      "c:\\Users\\panka\\.virtualenvs\\gnn-powerflow-0Gf6W7zT\\Lib\\site-packages\\torch_geometric\\deprecation.py:26: UserWarning: 'data.DataLoader' is deprecated, use 'loader.DataLoader' instead\n",
      "  warnings.warn(out)\n"
     ]
    },
    {
     "name": "stdout",
     "output_type": "stream",
     "text": [
      "dataset 99\n",
      "Test loss (MSE): 0.0001236\n",
      "===========================\n"
     ]
    },
    {
     "name": "stderr",
     "output_type": "stream",
     "text": [
      "c:\\Users\\panka\\.virtualenvs\\gnn-powerflow-0Gf6W7zT\\Lib\\site-packages\\torch_geometric\\deprecation.py:26: UserWarning: 'data.DataLoader' is deprecated, use 'loader.DataLoader' instead\n",
      "  warnings.warn(out)\n"
     ]
    },
    {
     "name": "stdout",
     "output_type": "stream",
     "text": [
      "dataset 100\n",
      "Test loss (MSE): 0.0000730\n",
      "===========================\n"
     ]
    },
    {
     "name": "stderr",
     "output_type": "stream",
     "text": [
      "c:\\Users\\panka\\.virtualenvs\\gnn-powerflow-0Gf6W7zT\\Lib\\site-packages\\torch_geometric\\deprecation.py:26: UserWarning: 'data.DataLoader' is deprecated, use 'loader.DataLoader' instead\n",
      "  warnings.warn(out)\n"
     ]
    },
    {
     "name": "stdout",
     "output_type": "stream",
     "text": [
      "dataset 101\n",
      "Test loss (MSE): 0.0001657\n",
      "===========================\n"
     ]
    },
    {
     "name": "stderr",
     "output_type": "stream",
     "text": [
      "c:\\Users\\panka\\.virtualenvs\\gnn-powerflow-0Gf6W7zT\\Lib\\site-packages\\torch_geometric\\deprecation.py:26: UserWarning: 'data.DataLoader' is deprecated, use 'loader.DataLoader' instead\n",
      "  warnings.warn(out)\n"
     ]
    },
    {
     "name": "stdout",
     "output_type": "stream",
     "text": [
      "dataset 102\n",
      "Test loss (MSE): 0.0000904\n",
      "===========================\n",
      "\n",
      "test loss file saved!\n",
      "\n",
      "CPU times: total: 4min 12s\n",
      "Wall time: 6min\n"
     ]
    }
   ],
   "source": [
    "%%time\n",
    "\n",
    "best_model = torch.load(\"[PyG] [14 bus] Best_GNN_GNN_NN_model.pt\")\n",
    "best_model.eval()\n",
    "\n",
    "test_loss_list = []\n",
    "\n",
    "for i in range(102):\n",
    "    \n",
    "    dataset = pd.read_excel('dataset\\Grid_14 bus_%d.xlsx' % (i+1)).values\n",
    "    test_percentage = 100\n",
    "    test_dataset = slice_dataset(dataset, test_percentage)\n",
    "    x_raw_test, y_raw_test = make_dataset(test_dataset, n_bus)\n",
    "    x_norm_test, y_norm_test, _, _, _, _ = normalize_dataset(x_raw_test, y_raw_test)\n",
    "    \n",
    "    x_test, y_test = x_norm_test, y_norm_test\n",
    "    \n",
    "    data_test_list = []\n",
    "    for j,_ in enumerate(x_test):\n",
    "        data_test_list.append(Data(x=x_test[j], y=y_test[j], edge_index=edge_index))\n",
    "\n",
    "    test_loader = DataLoader(data_test_list, batch_size=1)\n",
    "    \n",
    "    print('dataset {:d}'.format(i+1))\n",
    "    \n",
    "    test_loss = 0\n",
    "    for batch in test_loader:\n",
    "        y_test_prediction = best_model(batch)\n",
    "        loss = MSE(denormalize_output(y_test_prediction, y_val_mean, y_val_std), denormalize_output(batch.y, y_val_mean, y_val_std))\n",
    "        test_loss += loss.item() * batch.num_graphs\n",
    "    test_loss /= len(test_loader.dataset)\n",
    "    \n",
    "    if i == 0:\n",
    "        print('Train loss (MSE): {:.7f}'.format(test_loss))\n",
    "    elif i == 1:\n",
    "        print('Val loss (MSE): {:.7f}'.format(test_loss))\n",
    "    else:\n",
    "        print('Test loss (MSE): {:.7f}'.format(test_loss))\n",
    "        test_loss_list.append(test_loss)\n",
    "    \n",
    "    print(\"===========================\")\n",
    "\n",
    "column = []\n",
    "for i in range(100):\n",
    "    column.append('test loss %d' % (i+1))\n",
    "    \n",
    "test_loss_file = pd.DataFrame([test_loss_list], columns=column)\n",
    "test_loss_file.to_excel(\"[PyG] [14 bus] [MSE] GNN GNN NN test loss.xlsx\")\n",
    "print(\"\\ntest loss file saved!\\n\")"
   ]
  },
  {
   "cell_type": "code",
   "execution_count": 13,
   "metadata": {},
   "outputs": [
    {
     "name": "stderr",
     "output_type": "stream",
     "text": [
      "<timed exec>:1: FutureWarning: You are using `torch.load` with `weights_only=False` (the current default value), which uses the default pickle module implicitly. It is possible to construct malicious pickle data which will execute arbitrary code during unpickling (See https://github.com/pytorch/pytorch/blob/main/SECURITY.md#untrusted-models for more details). In a future release, the default value for `weights_only` will be flipped to `True`. This limits the functions that could be executed during unpickling. Arbitrary objects will no longer be allowed to be loaded via this mode unless they are explicitly allowlisted by the user via `torch.serialization.add_safe_globals`. We recommend you start setting `weights_only=True` for any use case where you don't have full control of the loaded file. Please open an issue on GitHub for any issues related to this experimental feature.\n",
      "c:\\Users\\panka\\.virtualenvs\\gnn-powerflow-0Gf6W7zT\\Lib\\site-packages\\torch_geometric\\deprecation.py:26: UserWarning: 'data.DataLoader' is deprecated, use 'loader.DataLoader' instead\n",
      "  warnings.warn(out)\n"
     ]
    },
    {
     "name": "stdout",
     "output_type": "stream",
     "text": [
      "dataset 1\n",
      "Train loss (NRMSE): 0.0251995\n",
      "===========================\n"
     ]
    },
    {
     "name": "stderr",
     "output_type": "stream",
     "text": [
      "c:\\Users\\panka\\.virtualenvs\\gnn-powerflow-0Gf6W7zT\\Lib\\site-packages\\torch_geometric\\deprecation.py:26: UserWarning: 'data.DataLoader' is deprecated, use 'loader.DataLoader' instead\n",
      "  warnings.warn(out)\n"
     ]
    },
    {
     "name": "stdout",
     "output_type": "stream",
     "text": [
      "dataset 2\n",
      "Val loss (NRMSE): 0.0255615\n",
      "===========================\n"
     ]
    },
    {
     "name": "stderr",
     "output_type": "stream",
     "text": [
      "c:\\Users\\panka\\.virtualenvs\\gnn-powerflow-0Gf6W7zT\\Lib\\site-packages\\torch_geometric\\deprecation.py:26: UserWarning: 'data.DataLoader' is deprecated, use 'loader.DataLoader' instead\n",
      "  warnings.warn(out)\n"
     ]
    },
    {
     "name": "stdout",
     "output_type": "stream",
     "text": [
      "dataset 3\n",
      "Test loss (NRMSE): 0.0250296\n",
      "===========================\n"
     ]
    },
    {
     "name": "stderr",
     "output_type": "stream",
     "text": [
      "c:\\Users\\panka\\.virtualenvs\\gnn-powerflow-0Gf6W7zT\\Lib\\site-packages\\torch_geometric\\deprecation.py:26: UserWarning: 'data.DataLoader' is deprecated, use 'loader.DataLoader' instead\n",
      "  warnings.warn(out)\n"
     ]
    },
    {
     "name": "stdout",
     "output_type": "stream",
     "text": [
      "dataset 4\n",
      "Test loss (NRMSE): 0.0303551\n",
      "===========================\n"
     ]
    },
    {
     "name": "stderr",
     "output_type": "stream",
     "text": [
      "c:\\Users\\panka\\.virtualenvs\\gnn-powerflow-0Gf6W7zT\\Lib\\site-packages\\torch_geometric\\deprecation.py:26: UserWarning: 'data.DataLoader' is deprecated, use 'loader.DataLoader' instead\n",
      "  warnings.warn(out)\n"
     ]
    },
    {
     "name": "stdout",
     "output_type": "stream",
     "text": [
      "dataset 5\n",
      "Test loss (NRMSE): 0.0298129\n",
      "===========================\n"
     ]
    },
    {
     "name": "stderr",
     "output_type": "stream",
     "text": [
      "c:\\Users\\panka\\.virtualenvs\\gnn-powerflow-0Gf6W7zT\\Lib\\site-packages\\torch_geometric\\deprecation.py:26: UserWarning: 'data.DataLoader' is deprecated, use 'loader.DataLoader' instead\n",
      "  warnings.warn(out)\n"
     ]
    },
    {
     "name": "stdout",
     "output_type": "stream",
     "text": [
      "dataset 6\n",
      "Test loss (NRMSE): 0.0254737\n",
      "===========================\n"
     ]
    },
    {
     "name": "stderr",
     "output_type": "stream",
     "text": [
      "c:\\Users\\panka\\.virtualenvs\\gnn-powerflow-0Gf6W7zT\\Lib\\site-packages\\torch_geometric\\deprecation.py:26: UserWarning: 'data.DataLoader' is deprecated, use 'loader.DataLoader' instead\n",
      "  warnings.warn(out)\n"
     ]
    },
    {
     "name": "stdout",
     "output_type": "stream",
     "text": [
      "dataset 7\n",
      "Test loss (NRMSE): 0.0524313\n",
      "===========================\n"
     ]
    },
    {
     "name": "stderr",
     "output_type": "stream",
     "text": [
      "c:\\Users\\panka\\.virtualenvs\\gnn-powerflow-0Gf6W7zT\\Lib\\site-packages\\torch_geometric\\deprecation.py:26: UserWarning: 'data.DataLoader' is deprecated, use 'loader.DataLoader' instead\n",
      "  warnings.warn(out)\n"
     ]
    },
    {
     "name": "stdout",
     "output_type": "stream",
     "text": [
      "dataset 8\n",
      "Test loss (NRMSE): 0.0703657\n",
      "===========================\n"
     ]
    },
    {
     "name": "stderr",
     "output_type": "stream",
     "text": [
      "c:\\Users\\panka\\.virtualenvs\\gnn-powerflow-0Gf6W7zT\\Lib\\site-packages\\torch_geometric\\deprecation.py:26: UserWarning: 'data.DataLoader' is deprecated, use 'loader.DataLoader' instead\n",
      "  warnings.warn(out)\n"
     ]
    },
    {
     "name": "stdout",
     "output_type": "stream",
     "text": [
      "dataset 9\n",
      "Test loss (NRMSE): 0.0311080\n",
      "===========================\n"
     ]
    },
    {
     "name": "stderr",
     "output_type": "stream",
     "text": [
      "c:\\Users\\panka\\.virtualenvs\\gnn-powerflow-0Gf6W7zT\\Lib\\site-packages\\torch_geometric\\deprecation.py:26: UserWarning: 'data.DataLoader' is deprecated, use 'loader.DataLoader' instead\n",
      "  warnings.warn(out)\n"
     ]
    },
    {
     "name": "stdout",
     "output_type": "stream",
     "text": [
      "dataset 10\n",
      "Test loss (NRMSE): 0.0586970\n",
      "===========================\n"
     ]
    },
    {
     "name": "stderr",
     "output_type": "stream",
     "text": [
      "c:\\Users\\panka\\.virtualenvs\\gnn-powerflow-0Gf6W7zT\\Lib\\site-packages\\torch_geometric\\deprecation.py:26: UserWarning: 'data.DataLoader' is deprecated, use 'loader.DataLoader' instead\n",
      "  warnings.warn(out)\n"
     ]
    },
    {
     "name": "stdout",
     "output_type": "stream",
     "text": [
      "dataset 11\n",
      "Test loss (NRMSE): 0.0462512\n",
      "===========================\n"
     ]
    },
    {
     "name": "stderr",
     "output_type": "stream",
     "text": [
      "c:\\Users\\panka\\.virtualenvs\\gnn-powerflow-0Gf6W7zT\\Lib\\site-packages\\torch_geometric\\deprecation.py:26: UserWarning: 'data.DataLoader' is deprecated, use 'loader.DataLoader' instead\n",
      "  warnings.warn(out)\n"
     ]
    },
    {
     "name": "stdout",
     "output_type": "stream",
     "text": [
      "dataset 12\n",
      "Test loss (NRMSE): 0.0389273\n",
      "===========================\n"
     ]
    },
    {
     "name": "stderr",
     "output_type": "stream",
     "text": [
      "c:\\Users\\panka\\.virtualenvs\\gnn-powerflow-0Gf6W7zT\\Lib\\site-packages\\torch_geometric\\deprecation.py:26: UserWarning: 'data.DataLoader' is deprecated, use 'loader.DataLoader' instead\n",
      "  warnings.warn(out)\n"
     ]
    },
    {
     "name": "stdout",
     "output_type": "stream",
     "text": [
      "dataset 13\n",
      "Test loss (NRMSE): 0.0256449\n",
      "===========================\n"
     ]
    },
    {
     "name": "stderr",
     "output_type": "stream",
     "text": [
      "c:\\Users\\panka\\.virtualenvs\\gnn-powerflow-0Gf6W7zT\\Lib\\site-packages\\torch_geometric\\deprecation.py:26: UserWarning: 'data.DataLoader' is deprecated, use 'loader.DataLoader' instead\n",
      "  warnings.warn(out)\n"
     ]
    },
    {
     "name": "stdout",
     "output_type": "stream",
     "text": [
      "dataset 14\n",
      "Test loss (NRMSE): 0.0287831\n",
      "===========================\n"
     ]
    },
    {
     "name": "stderr",
     "output_type": "stream",
     "text": [
      "c:\\Users\\panka\\.virtualenvs\\gnn-powerflow-0Gf6W7zT\\Lib\\site-packages\\torch_geometric\\deprecation.py:26: UserWarning: 'data.DataLoader' is deprecated, use 'loader.DataLoader' instead\n",
      "  warnings.warn(out)\n"
     ]
    },
    {
     "name": "stdout",
     "output_type": "stream",
     "text": [
      "dataset 15\n",
      "Test loss (NRMSE): 0.0282159\n",
      "===========================\n"
     ]
    },
    {
     "name": "stderr",
     "output_type": "stream",
     "text": [
      "c:\\Users\\panka\\.virtualenvs\\gnn-powerflow-0Gf6W7zT\\Lib\\site-packages\\torch_geometric\\deprecation.py:26: UserWarning: 'data.DataLoader' is deprecated, use 'loader.DataLoader' instead\n",
      "  warnings.warn(out)\n"
     ]
    },
    {
     "name": "stdout",
     "output_type": "stream",
     "text": [
      "dataset 16\n",
      "Test loss (NRMSE): 0.0325428\n",
      "===========================\n"
     ]
    },
    {
     "name": "stderr",
     "output_type": "stream",
     "text": [
      "c:\\Users\\panka\\.virtualenvs\\gnn-powerflow-0Gf6W7zT\\Lib\\site-packages\\torch_geometric\\deprecation.py:26: UserWarning: 'data.DataLoader' is deprecated, use 'loader.DataLoader' instead\n",
      "  warnings.warn(out)\n"
     ]
    },
    {
     "name": "stdout",
     "output_type": "stream",
     "text": [
      "dataset 17\n",
      "Test loss (NRMSE): 0.0343759\n",
      "===========================\n"
     ]
    },
    {
     "name": "stderr",
     "output_type": "stream",
     "text": [
      "c:\\Users\\panka\\.virtualenvs\\gnn-powerflow-0Gf6W7zT\\Lib\\site-packages\\torch_geometric\\deprecation.py:26: UserWarning: 'data.DataLoader' is deprecated, use 'loader.DataLoader' instead\n",
      "  warnings.warn(out)\n"
     ]
    },
    {
     "name": "stdout",
     "output_type": "stream",
     "text": [
      "dataset 18\n",
      "Test loss (NRMSE): 0.0407624\n",
      "===========================\n"
     ]
    },
    {
     "name": "stderr",
     "output_type": "stream",
     "text": [
      "c:\\Users\\panka\\.virtualenvs\\gnn-powerflow-0Gf6W7zT\\Lib\\site-packages\\torch_geometric\\deprecation.py:26: UserWarning: 'data.DataLoader' is deprecated, use 'loader.DataLoader' instead\n",
      "  warnings.warn(out)\n"
     ]
    },
    {
     "name": "stdout",
     "output_type": "stream",
     "text": [
      "dataset 19\n",
      "Test loss (NRMSE): 0.0300354\n",
      "===========================\n"
     ]
    },
    {
     "name": "stderr",
     "output_type": "stream",
     "text": [
      "c:\\Users\\panka\\.virtualenvs\\gnn-powerflow-0Gf6W7zT\\Lib\\site-packages\\torch_geometric\\deprecation.py:26: UserWarning: 'data.DataLoader' is deprecated, use 'loader.DataLoader' instead\n",
      "  warnings.warn(out)\n"
     ]
    },
    {
     "name": "stdout",
     "output_type": "stream",
     "text": [
      "dataset 20\n",
      "Test loss (NRMSE): 0.0322820\n",
      "===========================\n"
     ]
    },
    {
     "name": "stderr",
     "output_type": "stream",
     "text": [
      "c:\\Users\\panka\\.virtualenvs\\gnn-powerflow-0Gf6W7zT\\Lib\\site-packages\\torch_geometric\\deprecation.py:26: UserWarning: 'data.DataLoader' is deprecated, use 'loader.DataLoader' instead\n",
      "  warnings.warn(out)\n"
     ]
    },
    {
     "name": "stdout",
     "output_type": "stream",
     "text": [
      "dataset 21\n",
      "Test loss (NRMSE): 0.0414454\n",
      "===========================\n"
     ]
    },
    {
     "name": "stderr",
     "output_type": "stream",
     "text": [
      "c:\\Users\\panka\\.virtualenvs\\gnn-powerflow-0Gf6W7zT\\Lib\\site-packages\\torch_geometric\\deprecation.py:26: UserWarning: 'data.DataLoader' is deprecated, use 'loader.DataLoader' instead\n",
      "  warnings.warn(out)\n"
     ]
    },
    {
     "name": "stdout",
     "output_type": "stream",
     "text": [
      "dataset 22\n",
      "Test loss (NRMSE): 0.0368230\n",
      "===========================\n"
     ]
    },
    {
     "name": "stderr",
     "output_type": "stream",
     "text": [
      "c:\\Users\\panka\\.virtualenvs\\gnn-powerflow-0Gf6W7zT\\Lib\\site-packages\\torch_geometric\\deprecation.py:26: UserWarning: 'data.DataLoader' is deprecated, use 'loader.DataLoader' instead\n",
      "  warnings.warn(out)\n"
     ]
    },
    {
     "name": "stdout",
     "output_type": "stream",
     "text": [
      "dataset 23\n",
      "Test loss (NRMSE): 0.0351266\n",
      "===========================\n"
     ]
    },
    {
     "name": "stderr",
     "output_type": "stream",
     "text": [
      "c:\\Users\\panka\\.virtualenvs\\gnn-powerflow-0Gf6W7zT\\Lib\\site-packages\\torch_geometric\\deprecation.py:26: UserWarning: 'data.DataLoader' is deprecated, use 'loader.DataLoader' instead\n",
      "  warnings.warn(out)\n"
     ]
    },
    {
     "name": "stdout",
     "output_type": "stream",
     "text": [
      "dataset 24\n",
      "Test loss (NRMSE): 0.0592972\n",
      "===========================\n"
     ]
    },
    {
     "name": "stderr",
     "output_type": "stream",
     "text": [
      "c:\\Users\\panka\\.virtualenvs\\gnn-powerflow-0Gf6W7zT\\Lib\\site-packages\\torch_geometric\\deprecation.py:26: UserWarning: 'data.DataLoader' is deprecated, use 'loader.DataLoader' instead\n",
      "  warnings.warn(out)\n"
     ]
    },
    {
     "name": "stdout",
     "output_type": "stream",
     "text": [
      "dataset 25\n",
      "Test loss (NRMSE): 0.0412990\n",
      "===========================\n"
     ]
    },
    {
     "name": "stderr",
     "output_type": "stream",
     "text": [
      "c:\\Users\\panka\\.virtualenvs\\gnn-powerflow-0Gf6W7zT\\Lib\\site-packages\\torch_geometric\\deprecation.py:26: UserWarning: 'data.DataLoader' is deprecated, use 'loader.DataLoader' instead\n",
      "  warnings.warn(out)\n"
     ]
    },
    {
     "name": "stdout",
     "output_type": "stream",
     "text": [
      "dataset 26\n",
      "Test loss (NRMSE): 0.0302301\n",
      "===========================\n"
     ]
    },
    {
     "name": "stderr",
     "output_type": "stream",
     "text": [
      "c:\\Users\\panka\\.virtualenvs\\gnn-powerflow-0Gf6W7zT\\Lib\\site-packages\\torch_geometric\\deprecation.py:26: UserWarning: 'data.DataLoader' is deprecated, use 'loader.DataLoader' instead\n",
      "  warnings.warn(out)\n"
     ]
    },
    {
     "name": "stdout",
     "output_type": "stream",
     "text": [
      "dataset 27\n",
      "Test loss (NRMSE): 0.0389708\n",
      "===========================\n"
     ]
    },
    {
     "name": "stderr",
     "output_type": "stream",
     "text": [
      "c:\\Users\\panka\\.virtualenvs\\gnn-powerflow-0Gf6W7zT\\Lib\\site-packages\\torch_geometric\\deprecation.py:26: UserWarning: 'data.DataLoader' is deprecated, use 'loader.DataLoader' instead\n",
      "  warnings.warn(out)\n"
     ]
    },
    {
     "name": "stdout",
     "output_type": "stream",
     "text": [
      "dataset 28\n",
      "Test loss (NRMSE): 0.0315597\n",
      "===========================\n"
     ]
    },
    {
     "name": "stderr",
     "output_type": "stream",
     "text": [
      "c:\\Users\\panka\\.virtualenvs\\gnn-powerflow-0Gf6W7zT\\Lib\\site-packages\\torch_geometric\\deprecation.py:26: UserWarning: 'data.DataLoader' is deprecated, use 'loader.DataLoader' instead\n",
      "  warnings.warn(out)\n"
     ]
    },
    {
     "name": "stdout",
     "output_type": "stream",
     "text": [
      "dataset 29\n",
      "Test loss (NRMSE): 0.0277487\n",
      "===========================\n"
     ]
    },
    {
     "name": "stderr",
     "output_type": "stream",
     "text": [
      "c:\\Users\\panka\\.virtualenvs\\gnn-powerflow-0Gf6W7zT\\Lib\\site-packages\\torch_geometric\\deprecation.py:26: UserWarning: 'data.DataLoader' is deprecated, use 'loader.DataLoader' instead\n",
      "  warnings.warn(out)\n"
     ]
    },
    {
     "name": "stdout",
     "output_type": "stream",
     "text": [
      "dataset 30\n",
      "Test loss (NRMSE): 0.0570432\n",
      "===========================\n"
     ]
    },
    {
     "name": "stderr",
     "output_type": "stream",
     "text": [
      "c:\\Users\\panka\\.virtualenvs\\gnn-powerflow-0Gf6W7zT\\Lib\\site-packages\\torch_geometric\\deprecation.py:26: UserWarning: 'data.DataLoader' is deprecated, use 'loader.DataLoader' instead\n",
      "  warnings.warn(out)\n"
     ]
    },
    {
     "name": "stdout",
     "output_type": "stream",
     "text": [
      "dataset 31\n",
      "Test loss (NRMSE): 0.0479742\n",
      "===========================\n"
     ]
    },
    {
     "name": "stderr",
     "output_type": "stream",
     "text": [
      "c:\\Users\\panka\\.virtualenvs\\gnn-powerflow-0Gf6W7zT\\Lib\\site-packages\\torch_geometric\\deprecation.py:26: UserWarning: 'data.DataLoader' is deprecated, use 'loader.DataLoader' instead\n",
      "  warnings.warn(out)\n"
     ]
    },
    {
     "name": "stdout",
     "output_type": "stream",
     "text": [
      "dataset 32\n",
      "Test loss (NRMSE): 0.0243555\n",
      "===========================\n"
     ]
    },
    {
     "name": "stderr",
     "output_type": "stream",
     "text": [
      "c:\\Users\\panka\\.virtualenvs\\gnn-powerflow-0Gf6W7zT\\Lib\\site-packages\\torch_geometric\\deprecation.py:26: UserWarning: 'data.DataLoader' is deprecated, use 'loader.DataLoader' instead\n",
      "  warnings.warn(out)\n"
     ]
    },
    {
     "name": "stdout",
     "output_type": "stream",
     "text": [
      "dataset 33\n",
      "Test loss (NRMSE): 0.0385595\n",
      "===========================\n"
     ]
    },
    {
     "name": "stderr",
     "output_type": "stream",
     "text": [
      "c:\\Users\\panka\\.virtualenvs\\gnn-powerflow-0Gf6W7zT\\Lib\\site-packages\\torch_geometric\\deprecation.py:26: UserWarning: 'data.DataLoader' is deprecated, use 'loader.DataLoader' instead\n",
      "  warnings.warn(out)\n"
     ]
    },
    {
     "name": "stdout",
     "output_type": "stream",
     "text": [
      "dataset 34\n",
      "Test loss (NRMSE): 0.0284074\n",
      "===========================\n"
     ]
    },
    {
     "name": "stderr",
     "output_type": "stream",
     "text": [
      "c:\\Users\\panka\\.virtualenvs\\gnn-powerflow-0Gf6W7zT\\Lib\\site-packages\\torch_geometric\\deprecation.py:26: UserWarning: 'data.DataLoader' is deprecated, use 'loader.DataLoader' instead\n",
      "  warnings.warn(out)\n"
     ]
    },
    {
     "name": "stdout",
     "output_type": "stream",
     "text": [
      "dataset 35\n",
      "Test loss (NRMSE): 0.0628892\n",
      "===========================\n"
     ]
    },
    {
     "name": "stderr",
     "output_type": "stream",
     "text": [
      "c:\\Users\\panka\\.virtualenvs\\gnn-powerflow-0Gf6W7zT\\Lib\\site-packages\\torch_geometric\\deprecation.py:26: UserWarning: 'data.DataLoader' is deprecated, use 'loader.DataLoader' instead\n",
      "  warnings.warn(out)\n"
     ]
    },
    {
     "name": "stdout",
     "output_type": "stream",
     "text": [
      "dataset 36\n",
      "Test loss (NRMSE): 0.0335338\n",
      "===========================\n"
     ]
    },
    {
     "name": "stderr",
     "output_type": "stream",
     "text": [
      "c:\\Users\\panka\\.virtualenvs\\gnn-powerflow-0Gf6W7zT\\Lib\\site-packages\\torch_geometric\\deprecation.py:26: UserWarning: 'data.DataLoader' is deprecated, use 'loader.DataLoader' instead\n",
      "  warnings.warn(out)\n"
     ]
    },
    {
     "name": "stdout",
     "output_type": "stream",
     "text": [
      "dataset 37\n",
      "Test loss (NRMSE): 0.0256238\n",
      "===========================\n"
     ]
    },
    {
     "name": "stderr",
     "output_type": "stream",
     "text": [
      "c:\\Users\\panka\\.virtualenvs\\gnn-powerflow-0Gf6W7zT\\Lib\\site-packages\\torch_geometric\\deprecation.py:26: UserWarning: 'data.DataLoader' is deprecated, use 'loader.DataLoader' instead\n",
      "  warnings.warn(out)\n"
     ]
    },
    {
     "name": "stdout",
     "output_type": "stream",
     "text": [
      "dataset 38\n",
      "Test loss (NRMSE): 0.0462545\n",
      "===========================\n"
     ]
    },
    {
     "name": "stderr",
     "output_type": "stream",
     "text": [
      "c:\\Users\\panka\\.virtualenvs\\gnn-powerflow-0Gf6W7zT\\Lib\\site-packages\\torch_geometric\\deprecation.py:26: UserWarning: 'data.DataLoader' is deprecated, use 'loader.DataLoader' instead\n",
      "  warnings.warn(out)\n"
     ]
    },
    {
     "name": "stdout",
     "output_type": "stream",
     "text": [
      "dataset 39\n",
      "Test loss (NRMSE): 0.0417485\n",
      "===========================\n"
     ]
    },
    {
     "name": "stderr",
     "output_type": "stream",
     "text": [
      "c:\\Users\\panka\\.virtualenvs\\gnn-powerflow-0Gf6W7zT\\Lib\\site-packages\\torch_geometric\\deprecation.py:26: UserWarning: 'data.DataLoader' is deprecated, use 'loader.DataLoader' instead\n",
      "  warnings.warn(out)\n"
     ]
    },
    {
     "name": "stdout",
     "output_type": "stream",
     "text": [
      "dataset 40\n",
      "Test loss (NRMSE): 0.0534493\n",
      "===========================\n"
     ]
    },
    {
     "name": "stderr",
     "output_type": "stream",
     "text": [
      "c:\\Users\\panka\\.virtualenvs\\gnn-powerflow-0Gf6W7zT\\Lib\\site-packages\\torch_geometric\\deprecation.py:26: UserWarning: 'data.DataLoader' is deprecated, use 'loader.DataLoader' instead\n",
      "  warnings.warn(out)\n"
     ]
    },
    {
     "name": "stdout",
     "output_type": "stream",
     "text": [
      "dataset 41\n",
      "Test loss (NRMSE): 0.0303671\n",
      "===========================\n"
     ]
    },
    {
     "name": "stderr",
     "output_type": "stream",
     "text": [
      "c:\\Users\\panka\\.virtualenvs\\gnn-powerflow-0Gf6W7zT\\Lib\\site-packages\\torch_geometric\\deprecation.py:26: UserWarning: 'data.DataLoader' is deprecated, use 'loader.DataLoader' instead\n",
      "  warnings.warn(out)\n"
     ]
    },
    {
     "name": "stdout",
     "output_type": "stream",
     "text": [
      "dataset 42\n",
      "Test loss (NRMSE): 0.0354544\n",
      "===========================\n"
     ]
    },
    {
     "name": "stderr",
     "output_type": "stream",
     "text": [
      "c:\\Users\\panka\\.virtualenvs\\gnn-powerflow-0Gf6W7zT\\Lib\\site-packages\\torch_geometric\\deprecation.py:26: UserWarning: 'data.DataLoader' is deprecated, use 'loader.DataLoader' instead\n",
      "  warnings.warn(out)\n"
     ]
    },
    {
     "name": "stdout",
     "output_type": "stream",
     "text": [
      "dataset 43\n",
      "Test loss (NRMSE): 0.0306378\n",
      "===========================\n"
     ]
    },
    {
     "name": "stderr",
     "output_type": "stream",
     "text": [
      "c:\\Users\\panka\\.virtualenvs\\gnn-powerflow-0Gf6W7zT\\Lib\\site-packages\\torch_geometric\\deprecation.py:26: UserWarning: 'data.DataLoader' is deprecated, use 'loader.DataLoader' instead\n",
      "  warnings.warn(out)\n"
     ]
    },
    {
     "name": "stdout",
     "output_type": "stream",
     "text": [
      "dataset 44\n",
      "Test loss (NRMSE): 0.0314548\n",
      "===========================\n"
     ]
    },
    {
     "name": "stderr",
     "output_type": "stream",
     "text": [
      "c:\\Users\\panka\\.virtualenvs\\gnn-powerflow-0Gf6W7zT\\Lib\\site-packages\\torch_geometric\\deprecation.py:26: UserWarning: 'data.DataLoader' is deprecated, use 'loader.DataLoader' instead\n",
      "  warnings.warn(out)\n"
     ]
    },
    {
     "name": "stdout",
     "output_type": "stream",
     "text": [
      "dataset 45\n",
      "Test loss (NRMSE): 0.0304516\n",
      "===========================\n"
     ]
    },
    {
     "name": "stderr",
     "output_type": "stream",
     "text": [
      "c:\\Users\\panka\\.virtualenvs\\gnn-powerflow-0Gf6W7zT\\Lib\\site-packages\\torch_geometric\\deprecation.py:26: UserWarning: 'data.DataLoader' is deprecated, use 'loader.DataLoader' instead\n",
      "  warnings.warn(out)\n"
     ]
    },
    {
     "name": "stdout",
     "output_type": "stream",
     "text": [
      "dataset 46\n",
      "Test loss (NRMSE): 0.0322875\n",
      "===========================\n"
     ]
    },
    {
     "name": "stderr",
     "output_type": "stream",
     "text": [
      "c:\\Users\\panka\\.virtualenvs\\gnn-powerflow-0Gf6W7zT\\Lib\\site-packages\\torch_geometric\\deprecation.py:26: UserWarning: 'data.DataLoader' is deprecated, use 'loader.DataLoader' instead\n",
      "  warnings.warn(out)\n"
     ]
    },
    {
     "name": "stdout",
     "output_type": "stream",
     "text": [
      "dataset 47\n",
      "Test loss (NRMSE): 0.0301911\n",
      "===========================\n"
     ]
    },
    {
     "name": "stderr",
     "output_type": "stream",
     "text": [
      "c:\\Users\\panka\\.virtualenvs\\gnn-powerflow-0Gf6W7zT\\Lib\\site-packages\\torch_geometric\\deprecation.py:26: UserWarning: 'data.DataLoader' is deprecated, use 'loader.DataLoader' instead\n",
      "  warnings.warn(out)\n"
     ]
    },
    {
     "name": "stdout",
     "output_type": "stream",
     "text": [
      "dataset 48\n",
      "Test loss (NRMSE): 0.0326964\n",
      "===========================\n"
     ]
    },
    {
     "name": "stderr",
     "output_type": "stream",
     "text": [
      "c:\\Users\\panka\\.virtualenvs\\gnn-powerflow-0Gf6W7zT\\Lib\\site-packages\\torch_geometric\\deprecation.py:26: UserWarning: 'data.DataLoader' is deprecated, use 'loader.DataLoader' instead\n",
      "  warnings.warn(out)\n"
     ]
    },
    {
     "name": "stdout",
     "output_type": "stream",
     "text": [
      "dataset 49\n",
      "Test loss (NRMSE): 0.0433778\n",
      "===========================\n"
     ]
    },
    {
     "name": "stderr",
     "output_type": "stream",
     "text": [
      "c:\\Users\\panka\\.virtualenvs\\gnn-powerflow-0Gf6W7zT\\Lib\\site-packages\\torch_geometric\\deprecation.py:26: UserWarning: 'data.DataLoader' is deprecated, use 'loader.DataLoader' instead\n",
      "  warnings.warn(out)\n"
     ]
    },
    {
     "name": "stdout",
     "output_type": "stream",
     "text": [
      "dataset 50\n",
      "Test loss (NRMSE): 0.0326722\n",
      "===========================\n"
     ]
    },
    {
     "name": "stderr",
     "output_type": "stream",
     "text": [
      "c:\\Users\\panka\\.virtualenvs\\gnn-powerflow-0Gf6W7zT\\Lib\\site-packages\\torch_geometric\\deprecation.py:26: UserWarning: 'data.DataLoader' is deprecated, use 'loader.DataLoader' instead\n",
      "  warnings.warn(out)\n"
     ]
    },
    {
     "name": "stdout",
     "output_type": "stream",
     "text": [
      "dataset 51\n",
      "Test loss (NRMSE): 0.0301165\n",
      "===========================\n"
     ]
    },
    {
     "name": "stderr",
     "output_type": "stream",
     "text": [
      "c:\\Users\\panka\\.virtualenvs\\gnn-powerflow-0Gf6W7zT\\Lib\\site-packages\\torch_geometric\\deprecation.py:26: UserWarning: 'data.DataLoader' is deprecated, use 'loader.DataLoader' instead\n",
      "  warnings.warn(out)\n"
     ]
    },
    {
     "name": "stdout",
     "output_type": "stream",
     "text": [
      "dataset 52\n",
      "Test loss (NRMSE): 0.0352088\n",
      "===========================\n"
     ]
    },
    {
     "name": "stderr",
     "output_type": "stream",
     "text": [
      "c:\\Users\\panka\\.virtualenvs\\gnn-powerflow-0Gf6W7zT\\Lib\\site-packages\\torch_geometric\\deprecation.py:26: UserWarning: 'data.DataLoader' is deprecated, use 'loader.DataLoader' instead\n",
      "  warnings.warn(out)\n"
     ]
    },
    {
     "name": "stdout",
     "output_type": "stream",
     "text": [
      "dataset 53\n",
      "Test loss (NRMSE): 0.0362533\n",
      "===========================\n"
     ]
    },
    {
     "name": "stderr",
     "output_type": "stream",
     "text": [
      "c:\\Users\\panka\\.virtualenvs\\gnn-powerflow-0Gf6W7zT\\Lib\\site-packages\\torch_geometric\\deprecation.py:26: UserWarning: 'data.DataLoader' is deprecated, use 'loader.DataLoader' instead\n",
      "  warnings.warn(out)\n"
     ]
    },
    {
     "name": "stdout",
     "output_type": "stream",
     "text": [
      "dataset 54\n",
      "Test loss (NRMSE): 0.0294692\n",
      "===========================\n"
     ]
    },
    {
     "name": "stderr",
     "output_type": "stream",
     "text": [
      "c:\\Users\\panka\\.virtualenvs\\gnn-powerflow-0Gf6W7zT\\Lib\\site-packages\\torch_geometric\\deprecation.py:26: UserWarning: 'data.DataLoader' is deprecated, use 'loader.DataLoader' instead\n",
      "  warnings.warn(out)\n"
     ]
    },
    {
     "name": "stdout",
     "output_type": "stream",
     "text": [
      "dataset 55\n",
      "Test loss (NRMSE): 0.0316955\n",
      "===========================\n"
     ]
    },
    {
     "name": "stderr",
     "output_type": "stream",
     "text": [
      "c:\\Users\\panka\\.virtualenvs\\gnn-powerflow-0Gf6W7zT\\Lib\\site-packages\\torch_geometric\\deprecation.py:26: UserWarning: 'data.DataLoader' is deprecated, use 'loader.DataLoader' instead\n",
      "  warnings.warn(out)\n"
     ]
    },
    {
     "name": "stdout",
     "output_type": "stream",
     "text": [
      "dataset 56\n",
      "Test loss (NRMSE): 0.0388420\n",
      "===========================\n"
     ]
    },
    {
     "name": "stderr",
     "output_type": "stream",
     "text": [
      "c:\\Users\\panka\\.virtualenvs\\gnn-powerflow-0Gf6W7zT\\Lib\\site-packages\\torch_geometric\\deprecation.py:26: UserWarning: 'data.DataLoader' is deprecated, use 'loader.DataLoader' instead\n",
      "  warnings.warn(out)\n"
     ]
    },
    {
     "name": "stdout",
     "output_type": "stream",
     "text": [
      "dataset 57\n",
      "Test loss (NRMSE): 0.0310271\n",
      "===========================\n"
     ]
    },
    {
     "name": "stderr",
     "output_type": "stream",
     "text": [
      "c:\\Users\\panka\\.virtualenvs\\gnn-powerflow-0Gf6W7zT\\Lib\\site-packages\\torch_geometric\\deprecation.py:26: UserWarning: 'data.DataLoader' is deprecated, use 'loader.DataLoader' instead\n",
      "  warnings.warn(out)\n"
     ]
    },
    {
     "name": "stdout",
     "output_type": "stream",
     "text": [
      "dataset 58\n",
      "Test loss (NRMSE): 0.0361105\n",
      "===========================\n"
     ]
    },
    {
     "name": "stderr",
     "output_type": "stream",
     "text": [
      "c:\\Users\\panka\\.virtualenvs\\gnn-powerflow-0Gf6W7zT\\Lib\\site-packages\\torch_geometric\\deprecation.py:26: UserWarning: 'data.DataLoader' is deprecated, use 'loader.DataLoader' instead\n",
      "  warnings.warn(out)\n"
     ]
    },
    {
     "name": "stdout",
     "output_type": "stream",
     "text": [
      "dataset 59\n",
      "Test loss (NRMSE): 0.0316468\n",
      "===========================\n"
     ]
    },
    {
     "name": "stderr",
     "output_type": "stream",
     "text": [
      "c:\\Users\\panka\\.virtualenvs\\gnn-powerflow-0Gf6W7zT\\Lib\\site-packages\\torch_geometric\\deprecation.py:26: UserWarning: 'data.DataLoader' is deprecated, use 'loader.DataLoader' instead\n",
      "  warnings.warn(out)\n"
     ]
    },
    {
     "name": "stdout",
     "output_type": "stream",
     "text": [
      "dataset 60\n",
      "Test loss (NRMSE): 0.0290846\n",
      "===========================\n"
     ]
    },
    {
     "name": "stderr",
     "output_type": "stream",
     "text": [
      "c:\\Users\\panka\\.virtualenvs\\gnn-powerflow-0Gf6W7zT\\Lib\\site-packages\\torch_geometric\\deprecation.py:26: UserWarning: 'data.DataLoader' is deprecated, use 'loader.DataLoader' instead\n",
      "  warnings.warn(out)\n"
     ]
    },
    {
     "name": "stdout",
     "output_type": "stream",
     "text": [
      "dataset 61\n",
      "Test loss (NRMSE): 0.0313952\n",
      "===========================\n"
     ]
    },
    {
     "name": "stderr",
     "output_type": "stream",
     "text": [
      "c:\\Users\\panka\\.virtualenvs\\gnn-powerflow-0Gf6W7zT\\Lib\\site-packages\\torch_geometric\\deprecation.py:26: UserWarning: 'data.DataLoader' is deprecated, use 'loader.DataLoader' instead\n",
      "  warnings.warn(out)\n"
     ]
    },
    {
     "name": "stdout",
     "output_type": "stream",
     "text": [
      "dataset 62\n",
      "Test loss (NRMSE): 0.0336075\n",
      "===========================\n"
     ]
    },
    {
     "name": "stderr",
     "output_type": "stream",
     "text": [
      "c:\\Users\\panka\\.virtualenvs\\gnn-powerflow-0Gf6W7zT\\Lib\\site-packages\\torch_geometric\\deprecation.py:26: UserWarning: 'data.DataLoader' is deprecated, use 'loader.DataLoader' instead\n",
      "  warnings.warn(out)\n"
     ]
    },
    {
     "name": "stdout",
     "output_type": "stream",
     "text": [
      "dataset 63\n",
      "Test loss (NRMSE): 0.0425571\n",
      "===========================\n"
     ]
    },
    {
     "name": "stderr",
     "output_type": "stream",
     "text": [
      "c:\\Users\\panka\\.virtualenvs\\gnn-powerflow-0Gf6W7zT\\Lib\\site-packages\\torch_geometric\\deprecation.py:26: UserWarning: 'data.DataLoader' is deprecated, use 'loader.DataLoader' instead\n",
      "  warnings.warn(out)\n"
     ]
    },
    {
     "name": "stdout",
     "output_type": "stream",
     "text": [
      "dataset 64\n",
      "Test loss (NRMSE): 0.0299341\n",
      "===========================\n"
     ]
    },
    {
     "name": "stderr",
     "output_type": "stream",
     "text": [
      "c:\\Users\\panka\\.virtualenvs\\gnn-powerflow-0Gf6W7zT\\Lib\\site-packages\\torch_geometric\\deprecation.py:26: UserWarning: 'data.DataLoader' is deprecated, use 'loader.DataLoader' instead\n",
      "  warnings.warn(out)\n"
     ]
    },
    {
     "name": "stdout",
     "output_type": "stream",
     "text": [
      "dataset 65\n",
      "Test loss (NRMSE): 0.0264276\n",
      "===========================\n"
     ]
    },
    {
     "name": "stderr",
     "output_type": "stream",
     "text": [
      "c:\\Users\\panka\\.virtualenvs\\gnn-powerflow-0Gf6W7zT\\Lib\\site-packages\\torch_geometric\\deprecation.py:26: UserWarning: 'data.DataLoader' is deprecated, use 'loader.DataLoader' instead\n",
      "  warnings.warn(out)\n"
     ]
    },
    {
     "name": "stdout",
     "output_type": "stream",
     "text": [
      "dataset 66\n",
      "Test loss (NRMSE): 0.0314004\n",
      "===========================\n"
     ]
    },
    {
     "name": "stderr",
     "output_type": "stream",
     "text": [
      "c:\\Users\\panka\\.virtualenvs\\gnn-powerflow-0Gf6W7zT\\Lib\\site-packages\\torch_geometric\\deprecation.py:26: UserWarning: 'data.DataLoader' is deprecated, use 'loader.DataLoader' instead\n",
      "  warnings.warn(out)\n"
     ]
    },
    {
     "name": "stdout",
     "output_type": "stream",
     "text": [
      "dataset 67\n",
      "Test loss (NRMSE): 0.0298287\n",
      "===========================\n"
     ]
    },
    {
     "name": "stderr",
     "output_type": "stream",
     "text": [
      "c:\\Users\\panka\\.virtualenvs\\gnn-powerflow-0Gf6W7zT\\Lib\\site-packages\\torch_geometric\\deprecation.py:26: UserWarning: 'data.DataLoader' is deprecated, use 'loader.DataLoader' instead\n",
      "  warnings.warn(out)\n"
     ]
    },
    {
     "name": "stdout",
     "output_type": "stream",
     "text": [
      "dataset 68\n",
      "Test loss (NRMSE): 0.0331282\n",
      "===========================\n"
     ]
    },
    {
     "name": "stderr",
     "output_type": "stream",
     "text": [
      "c:\\Users\\panka\\.virtualenvs\\gnn-powerflow-0Gf6W7zT\\Lib\\site-packages\\torch_geometric\\deprecation.py:26: UserWarning: 'data.DataLoader' is deprecated, use 'loader.DataLoader' instead\n",
      "  warnings.warn(out)\n"
     ]
    },
    {
     "name": "stdout",
     "output_type": "stream",
     "text": [
      "dataset 69\n",
      "Test loss (NRMSE): 0.0355069\n",
      "===========================\n"
     ]
    },
    {
     "name": "stderr",
     "output_type": "stream",
     "text": [
      "c:\\Users\\panka\\.virtualenvs\\gnn-powerflow-0Gf6W7zT\\Lib\\site-packages\\torch_geometric\\deprecation.py:26: UserWarning: 'data.DataLoader' is deprecated, use 'loader.DataLoader' instead\n",
      "  warnings.warn(out)\n"
     ]
    },
    {
     "name": "stdout",
     "output_type": "stream",
     "text": [
      "dataset 70\n",
      "Test loss (NRMSE): 0.0573639\n",
      "===========================\n"
     ]
    },
    {
     "name": "stderr",
     "output_type": "stream",
     "text": [
      "c:\\Users\\panka\\.virtualenvs\\gnn-powerflow-0Gf6W7zT\\Lib\\site-packages\\torch_geometric\\deprecation.py:26: UserWarning: 'data.DataLoader' is deprecated, use 'loader.DataLoader' instead\n",
      "  warnings.warn(out)\n"
     ]
    },
    {
     "name": "stdout",
     "output_type": "stream",
     "text": [
      "dataset 71\n",
      "Test loss (NRMSE): 0.0321663\n",
      "===========================\n"
     ]
    },
    {
     "name": "stderr",
     "output_type": "stream",
     "text": [
      "c:\\Users\\panka\\.virtualenvs\\gnn-powerflow-0Gf6W7zT\\Lib\\site-packages\\torch_geometric\\deprecation.py:26: UserWarning: 'data.DataLoader' is deprecated, use 'loader.DataLoader' instead\n",
      "  warnings.warn(out)\n"
     ]
    },
    {
     "name": "stdout",
     "output_type": "stream",
     "text": [
      "dataset 72\n",
      "Test loss (NRMSE): 0.0355922\n",
      "===========================\n"
     ]
    },
    {
     "name": "stderr",
     "output_type": "stream",
     "text": [
      "c:\\Users\\panka\\.virtualenvs\\gnn-powerflow-0Gf6W7zT\\Lib\\site-packages\\torch_geometric\\deprecation.py:26: UserWarning: 'data.DataLoader' is deprecated, use 'loader.DataLoader' instead\n",
      "  warnings.warn(out)\n"
     ]
    },
    {
     "name": "stdout",
     "output_type": "stream",
     "text": [
      "dataset 73\n",
      "Test loss (NRMSE): 0.0635837\n",
      "===========================\n"
     ]
    },
    {
     "name": "stderr",
     "output_type": "stream",
     "text": [
      "c:\\Users\\panka\\.virtualenvs\\gnn-powerflow-0Gf6W7zT\\Lib\\site-packages\\torch_geometric\\deprecation.py:26: UserWarning: 'data.DataLoader' is deprecated, use 'loader.DataLoader' instead\n",
      "  warnings.warn(out)\n"
     ]
    },
    {
     "name": "stdout",
     "output_type": "stream",
     "text": [
      "dataset 74\n",
      "Test loss (NRMSE): 0.0304960\n",
      "===========================\n"
     ]
    },
    {
     "name": "stderr",
     "output_type": "stream",
     "text": [
      "c:\\Users\\panka\\.virtualenvs\\gnn-powerflow-0Gf6W7zT\\Lib\\site-packages\\torch_geometric\\deprecation.py:26: UserWarning: 'data.DataLoader' is deprecated, use 'loader.DataLoader' instead\n",
      "  warnings.warn(out)\n"
     ]
    },
    {
     "name": "stdout",
     "output_type": "stream",
     "text": [
      "dataset 75\n",
      "Test loss (NRMSE): 0.0416246\n",
      "===========================\n"
     ]
    },
    {
     "name": "stderr",
     "output_type": "stream",
     "text": [
      "c:\\Users\\panka\\.virtualenvs\\gnn-powerflow-0Gf6W7zT\\Lib\\site-packages\\torch_geometric\\deprecation.py:26: UserWarning: 'data.DataLoader' is deprecated, use 'loader.DataLoader' instead\n",
      "  warnings.warn(out)\n"
     ]
    },
    {
     "name": "stdout",
     "output_type": "stream",
     "text": [
      "dataset 76\n",
      "Test loss (NRMSE): 0.0259682\n",
      "===========================\n"
     ]
    },
    {
     "name": "stderr",
     "output_type": "stream",
     "text": [
      "c:\\Users\\panka\\.virtualenvs\\gnn-powerflow-0Gf6W7zT\\Lib\\site-packages\\torch_geometric\\deprecation.py:26: UserWarning: 'data.DataLoader' is deprecated, use 'loader.DataLoader' instead\n",
      "  warnings.warn(out)\n"
     ]
    },
    {
     "name": "stdout",
     "output_type": "stream",
     "text": [
      "dataset 77\n",
      "Test loss (NRMSE): 0.0299502\n",
      "===========================\n"
     ]
    },
    {
     "name": "stderr",
     "output_type": "stream",
     "text": [
      "c:\\Users\\panka\\.virtualenvs\\gnn-powerflow-0Gf6W7zT\\Lib\\site-packages\\torch_geometric\\deprecation.py:26: UserWarning: 'data.DataLoader' is deprecated, use 'loader.DataLoader' instead\n",
      "  warnings.warn(out)\n"
     ]
    },
    {
     "name": "stdout",
     "output_type": "stream",
     "text": [
      "dataset 78\n",
      "Test loss (NRMSE): 0.0399270\n",
      "===========================\n"
     ]
    },
    {
     "name": "stderr",
     "output_type": "stream",
     "text": [
      "c:\\Users\\panka\\.virtualenvs\\gnn-powerflow-0Gf6W7zT\\Lib\\site-packages\\torch_geometric\\deprecation.py:26: UserWarning: 'data.DataLoader' is deprecated, use 'loader.DataLoader' instead\n",
      "  warnings.warn(out)\n"
     ]
    },
    {
     "name": "stdout",
     "output_type": "stream",
     "text": [
      "dataset 79\n",
      "Test loss (NRMSE): 0.0263407\n",
      "===========================\n"
     ]
    },
    {
     "name": "stderr",
     "output_type": "stream",
     "text": [
      "c:\\Users\\panka\\.virtualenvs\\gnn-powerflow-0Gf6W7zT\\Lib\\site-packages\\torch_geometric\\deprecation.py:26: UserWarning: 'data.DataLoader' is deprecated, use 'loader.DataLoader' instead\n",
      "  warnings.warn(out)\n"
     ]
    },
    {
     "name": "stdout",
     "output_type": "stream",
     "text": [
      "dataset 80\n",
      "Test loss (NRMSE): 0.0421857\n",
      "===========================\n"
     ]
    },
    {
     "name": "stderr",
     "output_type": "stream",
     "text": [
      "c:\\Users\\panka\\.virtualenvs\\gnn-powerflow-0Gf6W7zT\\Lib\\site-packages\\torch_geometric\\deprecation.py:26: UserWarning: 'data.DataLoader' is deprecated, use 'loader.DataLoader' instead\n",
      "  warnings.warn(out)\n"
     ]
    },
    {
     "name": "stdout",
     "output_type": "stream",
     "text": [
      "dataset 81\n",
      "Test loss (NRMSE): 0.0307323\n",
      "===========================\n"
     ]
    },
    {
     "name": "stderr",
     "output_type": "stream",
     "text": [
      "c:\\Users\\panka\\.virtualenvs\\gnn-powerflow-0Gf6W7zT\\Lib\\site-packages\\torch_geometric\\deprecation.py:26: UserWarning: 'data.DataLoader' is deprecated, use 'loader.DataLoader' instead\n",
      "  warnings.warn(out)\n"
     ]
    },
    {
     "name": "stdout",
     "output_type": "stream",
     "text": [
      "dataset 82\n",
      "Test loss (NRMSE): 0.0496792\n",
      "===========================\n"
     ]
    },
    {
     "name": "stderr",
     "output_type": "stream",
     "text": [
      "c:\\Users\\panka\\.virtualenvs\\gnn-powerflow-0Gf6W7zT\\Lib\\site-packages\\torch_geometric\\deprecation.py:26: UserWarning: 'data.DataLoader' is deprecated, use 'loader.DataLoader' instead\n",
      "  warnings.warn(out)\n"
     ]
    },
    {
     "name": "stdout",
     "output_type": "stream",
     "text": [
      "dataset 83\n",
      "Test loss (NRMSE): 0.0311468\n",
      "===========================\n"
     ]
    },
    {
     "name": "stderr",
     "output_type": "stream",
     "text": [
      "c:\\Users\\panka\\.virtualenvs\\gnn-powerflow-0Gf6W7zT\\Lib\\site-packages\\torch_geometric\\deprecation.py:26: UserWarning: 'data.DataLoader' is deprecated, use 'loader.DataLoader' instead\n",
      "  warnings.warn(out)\n"
     ]
    },
    {
     "name": "stdout",
     "output_type": "stream",
     "text": [
      "dataset 84\n",
      "Test loss (NRMSE): 0.0440145\n",
      "===========================\n"
     ]
    },
    {
     "name": "stderr",
     "output_type": "stream",
     "text": [
      "c:\\Users\\panka\\.virtualenvs\\gnn-powerflow-0Gf6W7zT\\Lib\\site-packages\\torch_geometric\\deprecation.py:26: UserWarning: 'data.DataLoader' is deprecated, use 'loader.DataLoader' instead\n",
      "  warnings.warn(out)\n"
     ]
    },
    {
     "name": "stdout",
     "output_type": "stream",
     "text": [
      "dataset 85\n",
      "Test loss (NRMSE): 0.0285125\n",
      "===========================\n"
     ]
    },
    {
     "name": "stderr",
     "output_type": "stream",
     "text": [
      "c:\\Users\\panka\\.virtualenvs\\gnn-powerflow-0Gf6W7zT\\Lib\\site-packages\\torch_geometric\\deprecation.py:26: UserWarning: 'data.DataLoader' is deprecated, use 'loader.DataLoader' instead\n",
      "  warnings.warn(out)\n"
     ]
    },
    {
     "name": "stdout",
     "output_type": "stream",
     "text": [
      "dataset 86\n",
      "Test loss (NRMSE): 0.0561887\n",
      "===========================\n"
     ]
    },
    {
     "name": "stderr",
     "output_type": "stream",
     "text": [
      "c:\\Users\\panka\\.virtualenvs\\gnn-powerflow-0Gf6W7zT\\Lib\\site-packages\\torch_geometric\\deprecation.py:26: UserWarning: 'data.DataLoader' is deprecated, use 'loader.DataLoader' instead\n",
      "  warnings.warn(out)\n"
     ]
    },
    {
     "name": "stdout",
     "output_type": "stream",
     "text": [
      "dataset 87\n",
      "Test loss (NRMSE): 0.0382286\n",
      "===========================\n"
     ]
    },
    {
     "name": "stderr",
     "output_type": "stream",
     "text": [
      "c:\\Users\\panka\\.virtualenvs\\gnn-powerflow-0Gf6W7zT\\Lib\\site-packages\\torch_geometric\\deprecation.py:26: UserWarning: 'data.DataLoader' is deprecated, use 'loader.DataLoader' instead\n",
      "  warnings.warn(out)\n"
     ]
    },
    {
     "name": "stdout",
     "output_type": "stream",
     "text": [
      "dataset 88\n",
      "Test loss (NRMSE): 0.0306299\n",
      "===========================\n"
     ]
    },
    {
     "name": "stderr",
     "output_type": "stream",
     "text": [
      "c:\\Users\\panka\\.virtualenvs\\gnn-powerflow-0Gf6W7zT\\Lib\\site-packages\\torch_geometric\\deprecation.py:26: UserWarning: 'data.DataLoader' is deprecated, use 'loader.DataLoader' instead\n",
      "  warnings.warn(out)\n"
     ]
    },
    {
     "name": "stdout",
     "output_type": "stream",
     "text": [
      "dataset 89\n",
      "Test loss (NRMSE): 0.0293774\n",
      "===========================\n"
     ]
    },
    {
     "name": "stderr",
     "output_type": "stream",
     "text": [
      "c:\\Users\\panka\\.virtualenvs\\gnn-powerflow-0Gf6W7zT\\Lib\\site-packages\\torch_geometric\\deprecation.py:26: UserWarning: 'data.DataLoader' is deprecated, use 'loader.DataLoader' instead\n",
      "  warnings.warn(out)\n"
     ]
    },
    {
     "name": "stdout",
     "output_type": "stream",
     "text": [
      "dataset 90\n",
      "Test loss (NRMSE): 0.0374315\n",
      "===========================\n"
     ]
    },
    {
     "name": "stderr",
     "output_type": "stream",
     "text": [
      "c:\\Users\\panka\\.virtualenvs\\gnn-powerflow-0Gf6W7zT\\Lib\\site-packages\\torch_geometric\\deprecation.py:26: UserWarning: 'data.DataLoader' is deprecated, use 'loader.DataLoader' instead\n",
      "  warnings.warn(out)\n"
     ]
    },
    {
     "name": "stdout",
     "output_type": "stream",
     "text": [
      "dataset 91\n",
      "Test loss (NRMSE): 0.0287137\n",
      "===========================\n"
     ]
    },
    {
     "name": "stderr",
     "output_type": "stream",
     "text": [
      "c:\\Users\\panka\\.virtualenvs\\gnn-powerflow-0Gf6W7zT\\Lib\\site-packages\\torch_geometric\\deprecation.py:26: UserWarning: 'data.DataLoader' is deprecated, use 'loader.DataLoader' instead\n",
      "  warnings.warn(out)\n"
     ]
    },
    {
     "name": "stdout",
     "output_type": "stream",
     "text": [
      "dataset 92\n",
      "Test loss (NRMSE): 0.0466663\n",
      "===========================\n"
     ]
    },
    {
     "name": "stderr",
     "output_type": "stream",
     "text": [
      "c:\\Users\\panka\\.virtualenvs\\gnn-powerflow-0Gf6W7zT\\Lib\\site-packages\\torch_geometric\\deprecation.py:26: UserWarning: 'data.DataLoader' is deprecated, use 'loader.DataLoader' instead\n",
      "  warnings.warn(out)\n"
     ]
    },
    {
     "name": "stdout",
     "output_type": "stream",
     "text": [
      "dataset 93\n",
      "Test loss (NRMSE): 0.0823924\n",
      "===========================\n"
     ]
    },
    {
     "name": "stderr",
     "output_type": "stream",
     "text": [
      "c:\\Users\\panka\\.virtualenvs\\gnn-powerflow-0Gf6W7zT\\Lib\\site-packages\\torch_geometric\\deprecation.py:26: UserWarning: 'data.DataLoader' is deprecated, use 'loader.DataLoader' instead\n",
      "  warnings.warn(out)\n"
     ]
    },
    {
     "name": "stdout",
     "output_type": "stream",
     "text": [
      "dataset 94\n",
      "Test loss (NRMSE): 0.0358814\n",
      "===========================\n"
     ]
    },
    {
     "name": "stderr",
     "output_type": "stream",
     "text": [
      "c:\\Users\\panka\\.virtualenvs\\gnn-powerflow-0Gf6W7zT\\Lib\\site-packages\\torch_geometric\\deprecation.py:26: UserWarning: 'data.DataLoader' is deprecated, use 'loader.DataLoader' instead\n",
      "  warnings.warn(out)\n"
     ]
    },
    {
     "name": "stdout",
     "output_type": "stream",
     "text": [
      "dataset 95\n",
      "Test loss (NRMSE): 0.0278301\n",
      "===========================\n"
     ]
    },
    {
     "name": "stderr",
     "output_type": "stream",
     "text": [
      "c:\\Users\\panka\\.virtualenvs\\gnn-powerflow-0Gf6W7zT\\Lib\\site-packages\\torch_geometric\\deprecation.py:26: UserWarning: 'data.DataLoader' is deprecated, use 'loader.DataLoader' instead\n",
      "  warnings.warn(out)\n"
     ]
    },
    {
     "name": "stdout",
     "output_type": "stream",
     "text": [
      "dataset 96\n",
      "Test loss (NRMSE): 0.0422492\n",
      "===========================\n"
     ]
    },
    {
     "name": "stderr",
     "output_type": "stream",
     "text": [
      "c:\\Users\\panka\\.virtualenvs\\gnn-powerflow-0Gf6W7zT\\Lib\\site-packages\\torch_geometric\\deprecation.py:26: UserWarning: 'data.DataLoader' is deprecated, use 'loader.DataLoader' instead\n",
      "  warnings.warn(out)\n"
     ]
    },
    {
     "name": "stdout",
     "output_type": "stream",
     "text": [
      "dataset 97\n",
      "Test loss (NRMSE): 0.0233332\n",
      "===========================\n"
     ]
    },
    {
     "name": "stderr",
     "output_type": "stream",
     "text": [
      "c:\\Users\\panka\\.virtualenvs\\gnn-powerflow-0Gf6W7zT\\Lib\\site-packages\\torch_geometric\\deprecation.py:26: UserWarning: 'data.DataLoader' is deprecated, use 'loader.DataLoader' instead\n",
      "  warnings.warn(out)\n"
     ]
    },
    {
     "name": "stdout",
     "output_type": "stream",
     "text": [
      "dataset 98\n",
      "Test loss (NRMSE): 0.0536678\n",
      "===========================\n"
     ]
    },
    {
     "name": "stderr",
     "output_type": "stream",
     "text": [
      "c:\\Users\\panka\\.virtualenvs\\gnn-powerflow-0Gf6W7zT\\Lib\\site-packages\\torch_geometric\\deprecation.py:26: UserWarning: 'data.DataLoader' is deprecated, use 'loader.DataLoader' instead\n",
      "  warnings.warn(out)\n"
     ]
    },
    {
     "name": "stdout",
     "output_type": "stream",
     "text": [
      "dataset 99\n",
      "Test loss (NRMSE): 0.0330497\n",
      "===========================\n"
     ]
    },
    {
     "name": "stderr",
     "output_type": "stream",
     "text": [
      "c:\\Users\\panka\\.virtualenvs\\gnn-powerflow-0Gf6W7zT\\Lib\\site-packages\\torch_geometric\\deprecation.py:26: UserWarning: 'data.DataLoader' is deprecated, use 'loader.DataLoader' instead\n",
      "  warnings.warn(out)\n"
     ]
    },
    {
     "name": "stdout",
     "output_type": "stream",
     "text": [
      "dataset 100\n",
      "Test loss (NRMSE): 0.0274287\n",
      "===========================\n"
     ]
    },
    {
     "name": "stderr",
     "output_type": "stream",
     "text": [
      "c:\\Users\\panka\\.virtualenvs\\gnn-powerflow-0Gf6W7zT\\Lib\\site-packages\\torch_geometric\\deprecation.py:26: UserWarning: 'data.DataLoader' is deprecated, use 'loader.DataLoader' instead\n",
      "  warnings.warn(out)\n"
     ]
    },
    {
     "name": "stdout",
     "output_type": "stream",
     "text": [
      "dataset 101\n",
      "Test loss (NRMSE): 0.0246596\n",
      "===========================\n"
     ]
    },
    {
     "name": "stderr",
     "output_type": "stream",
     "text": [
      "c:\\Users\\panka\\.virtualenvs\\gnn-powerflow-0Gf6W7zT\\Lib\\site-packages\\torch_geometric\\deprecation.py:26: UserWarning: 'data.DataLoader' is deprecated, use 'loader.DataLoader' instead\n",
      "  warnings.warn(out)\n"
     ]
    },
    {
     "name": "stdout",
     "output_type": "stream",
     "text": [
      "dataset 102\n",
      "Test loss (NRMSE): 0.0465904\n",
      "===========================\n",
      "\n",
      "test loss file saved!\n",
      "\n",
      "CPU times: total: 12min 2s\n",
      "Wall time: 6min 27s\n"
     ]
    }
   ],
   "source": [
    "%%time\n",
    "\n",
    "best_model = torch.load(\"[PyG] [14 bus] Best_GNN_GNN_NN_model.pt\")\n",
    "best_model.eval()\n",
    "\n",
    "test_loss_list = []\n",
    "\n",
    "for i in range(102):\n",
    "    \n",
    "    dataset = pd.read_excel('dataset\\Grid_14 bus_%d.xlsx' % (i+1)).values\n",
    "    test_percentage = 100\n",
    "    test_dataset = slice_dataset(dataset, test_percentage)\n",
    "    x_raw_test, y_raw_test = make_dataset(test_dataset, n_bus)\n",
    "    x_norm_test, y_norm_test, _, _, _, _ = normalize_dataset(x_raw_test, y_raw_test)\n",
    "    \n",
    "    x_test, y_test = x_norm_test, y_norm_test\n",
    "    \n",
    "    data_test_list = []\n",
    "    for j,_ in enumerate(x_test):\n",
    "        data_test_list.append(Data(x=x_test[j], y=y_test[j], edge_index=edge_index))\n",
    "\n",
    "    test_loader = DataLoader(data_test_list, batch_size=1)\n",
    "    \n",
    "    print('dataset {:d}'.format(i+1))\n",
    "    \n",
    "    test_loss = 0\n",
    "    yhat = torch.empty(0, n_bus*2)\n",
    "    for batch in test_loader:\n",
    "        y_test_prediction = best_model(batch)\n",
    "        yhat = torch.cat((yhat, y_test_prediction.reshape(1, n_bus*2)))\n",
    "    \n",
    "    yhat = denormalize_output(yhat, y_val_mean, y_val_std)\n",
    "    y = y_raw_test\n",
    "    test_loss_NRMSE = NRMSE(yhat, y)\n",
    "    \n",
    "    if i == 0:\n",
    "        print('Train loss (NRMSE): {:.7f}'.format(test_loss_NRMSE.detach().numpy()))\n",
    "    elif i == 1:\n",
    "        print('Val loss (NRMSE): {:.7f}'.format(test_loss_NRMSE.detach().numpy()))\n",
    "    else:\n",
    "        print('Test loss (NRMSE): {:.7f}'.format(test_loss_NRMSE.detach().numpy()))\n",
    "        test_loss_list.append(test_loss_NRMSE.detach().numpy())\n",
    "    \n",
    "    print(\"===========================\")\n",
    "\n",
    "column = []\n",
    "for i in range(100):\n",
    "    column.append('test loss %d' % (i+1))\n",
    "    \n",
    "test_loss_file = pd.DataFrame([test_loss_list], columns=column)\n",
    "test_loss_file.to_excel(\"[PyG] [14 bus] [NRMSE] GNN GNN NN test loss.xlsx\")\n",
    "print(\"\\ntest loss file saved!\\n\")"
   ]
  }
 ],
 "metadata": {
  "kernelspec": {
   "display_name": "Python 3",
   "language": "python",
   "name": "python3"
  },
  "language_info": {
   "codemirror_mode": {
    "name": "ipython",
    "version": 3
   },
   "file_extension": ".py",
   "mimetype": "text/x-python",
   "name": "python",
   "nbconvert_exporter": "python",
   "pygments_lexer": "ipython3",
   "version": "3.11.5"
  }
 },
 "nbformat": 4,
 "nbformat_minor": 4
}
